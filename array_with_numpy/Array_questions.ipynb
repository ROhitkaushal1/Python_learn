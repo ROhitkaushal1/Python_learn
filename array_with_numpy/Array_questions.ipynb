{
 "cells": [
  {
   "cell_type": "code",
   "execution_count": 5,
   "metadata": {},
   "outputs": [],
   "source": [
    "import numpy as np"
   ]
  },
  {
   "cell_type": "markdown",
   "metadata": {},
   "source": [
    "# 1: How to Find the Index of Maximum and Minimum Values in a NumPy Array?"
   ]
  },
  {
   "cell_type": "code",
   "execution_count": 6,
   "metadata": {},
   "outputs": [
    {
     "name": "stdout",
     "output_type": "stream",
     "text": [
      "89\n",
      "2\n"
     ]
    }
   ],
   "source": [
    "arr = np.array([10, 25, 2, 67, 89, 45])\n",
    "max = np.amax(arr)\n",
    "min =np.amin(arr)\n",
    "print(max)\n",
    "print(min)"
   ]
  },
  {
   "cell_type": "markdown",
   "metadata": {},
   "source": [
    "# 2: How to Replace All Values Greater than a Threshold with a Specific Value?\n",
    "Replace all values greater than 10 with 99"
   ]
  },
  {
   "cell_type": "code",
   "execution_count": 7,
   "metadata": {},
   "outputs": [
    {
     "name": "stdout",
     "output_type": "stream",
     "text": [
      "[ 3 10 99 99  5  9]\n"
     ]
    }
   ],
   "source": [
    "arr = np.array([3, 10, 18, 21, 5, 9])\n",
    "arr[arr>10]=99\n",
    "print(arr)"
   ]
  },
  {
   "cell_type": "markdown",
   "metadata": {},
   "source": [
    "# 3:⁠ ⁠How to Find Unique Elements and Their Counts in an Array?"
   ]
  },
  {
   "cell_type": "code",
   "execution_count": 8,
   "metadata": {},
   "outputs": [],
   "source": [
    "arr = np.array([1, 2, 2, 3, 4, 4, 4, 5])\n",
    "a = np.unique_counts(arr)"
   ]
  },
  {
   "cell_type": "markdown",
   "metadata": {},
   "source": [
    "# 4: ⁠How to Perform Row-Wise and Column-Wise Operations in NumPy?\n",
    "you can do: sum of all rows and sum of all columns"
   ]
  },
  {
   "cell_type": "code",
   "execution_count": 9,
   "metadata": {},
   "outputs": [
    {
     "name": "stdout",
     "output_type": "stream",
     "text": [
      "[ 6 15 24]\n",
      "[12 15 18]\n"
     ]
    }
   ],
   "source": [
    "matrix = np.array([[1, 2, 3], [4, 5, 6], [7, 8, 9]])\n",
    "a=np.sum(matrix,axis=1)\n",
    "b=np.sum(matrix,axis=0)\n",
    "print(a)\n",
    "print(b)"
   ]
  },
  {
   "cell_type": "markdown",
   "metadata": {},
   "source": [
    "# 5:⁠ ⁠How to Generate a Random Matrix and Normalize It?\n"
   ]
  },
  {
   "cell_type": "code",
   "execution_count": 10,
   "metadata": {},
   "outputs": [
    {
     "name": "stdout",
     "output_type": "stream",
     "text": [
      "[[ 0.15640405 -0.7400754   0.87251418]\n",
      " [-2.27382575  0.70284879  0.55188864]\n",
      " [ 1.68640833 -0.25646971 -0.58626066]]\n",
      "[[0.61365812 0.24705406 0.86178127]\n",
      " [0.         0.77585484 0.77897264]\n",
      " [1.         0.42428517 0.48502043]]\n"
     ]
    }
   ],
   "source": [
    "rand_matrix = np.random.rand(3,3)\n",
    "rand_matrix_mean = np.mean(rand_matrix,axis=1)\n",
    "rand_matrix_std=np.std(rand_matrix,axis=1)\n",
    "normalize_matrix = (rand_matrix -rand_matrix_mean )/rand_matrix_std\n",
    "print(normalize_matrix)\n",
    "normalized_matrix = (rand_matrix - np.min(rand_matrix)) / (np.max(rand_matrix) - np.min(rand_matrix))\n",
    "print(normalized_matrix)\n"
   ]
  },
  {
   "cell_type": "markdown",
   "metadata": {},
   "source": [
    "# 6:⁠ ⁠How to Find the Euclidean Distance Between Two Vectors?"
   ]
  },
  {
   "cell_type": "code",
   "execution_count": 11,
   "metadata": {},
   "outputs": [],
   "source": [
    "v1 = np.array([3, 4, 5])\n",
    "v2 = np.array([1, 1, 1])"
   ]
  },
  {
   "cell_type": "code",
   "execution_count": 12,
   "metadata": {},
   "outputs": [
    {
     "name": "stdout",
     "output_type": "stream",
     "text": [
      "5.385164807134504\n"
     ]
    }
   ],
   "source": [
    "distance = np.sqrt(np.sum((v1 - v2) ** 2))\n",
    "print(distance)"
   ]
  },
  {
   "cell_type": "code",
   "execution_count": 13,
   "metadata": {},
   "outputs": [
    {
     "name": "stdout",
     "output_type": "stream",
     "text": [
      "5.385164807134504\n"
     ]
    }
   ],
   "source": [
    "distance = np.linalg.norm(v1 - v2)\n",
    "print(distance)"
   ]
  },
  {
   "cell_type": "markdown",
   "metadata": {},
   "source": [
    "# 7:⁠ ⁠How to Shuffle Rows of a NumPy Array?"
   ]
  },
  {
   "cell_type": "code",
   "execution_count": 14,
   "metadata": {},
   "outputs": [
    {
     "name": "stdout",
     "output_type": "stream",
     "text": [
      "[[4 5 6]\n",
      " [7 8 9]\n",
      " [1 2 3]]\n"
     ]
    }
   ],
   "source": [
    "arr = np.array([[1, 2, 3], [4, 5, 6], [7, 8, 9]])\n",
    "np.random.shuffle(arr)\n",
    "print(arr)"
   ]
  },
  {
   "cell_type": "markdown",
   "metadata": {},
   "source": [
    "# 8: How to Find the Dot Product and Cross Product of Two Vectors?"
   ]
  },
  {
   "cell_type": "code",
   "execution_count": 15,
   "metadata": {},
   "outputs": [
    {
     "name": "stdout",
     "output_type": "stream",
     "text": [
      "32\n",
      "[-3  6 -3]\n"
     ]
    }
   ],
   "source": [
    "v1 = np.array([1, 2, 3])\n",
    "v2 = np.array([4, 5, 6])\n",
    "\n",
    "a = np.dot(v1,v2)\n",
    "b = np.cross(v1,v2)\n",
    "\n",
    "print(a)\n",
    "print(b)\n"
   ]
  },
  {
   "cell_type": "code",
   "execution_count": null,
   "metadata": {},
   "outputs": [],
   "source": []
  }
 ],
 "metadata": {
  "kernelspec": {
   "display_name": "Python 3",
   "language": "python",
   "name": "python3"
  },
  "language_info": {
   "codemirror_mode": {
    "name": "ipython",
    "version": 3
   },
   "file_extension": ".py",
   "mimetype": "text/x-python",
   "name": "python",
   "nbconvert_exporter": "python",
   "pygments_lexer": "ipython3",
   "version": "3.11.5"
  }
 },
 "nbformat": 4,
 "nbformat_minor": 2
}
