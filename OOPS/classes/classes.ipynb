{
 "cells": [
  {
   "cell_type": "code",
   "execution_count": 43,
   "metadata": {},
   "outputs": [],
   "source": [
    "class Student:\n",
    "    def __init__(self,name,age):\n",
    "        self.name  = name\n",
    "        self.age = age\n",
    "\n",
    "\n"
   ]
  },
  {
   "cell_type": "code",
   "execution_count": 5,
   "metadata": {},
   "outputs": [],
   "source": [
    "class Student:\n",
    "    def __init__ ( self,name, marks,roll):\n",
    "        print(\"this is addition of new student\")\n",
    "        self.name = name\n",
    "        self.marks = marks\n",
    "        self.roll  = roll\n"
   ]
  },
  {
   "cell_type": "code",
   "execution_count": 6,
   "metadata": {},
   "outputs": [
    {
     "name": "stdout",
     "output_type": "stream",
     "text": [
      "this is addition of new student\n",
      "2 rohit 67\n"
     ]
    }
   ],
   "source": [
    "s1 = Student(\"rohit\",67,2)\n",
    "print(s1.roll,s1.name,s1.marks)"
   ]
  },
  {
   "cell_type": "code",
   "execution_count": 8,
   "metadata": {},
   "outputs": [
    {
     "name": "stdout",
     "output_type": "stream",
     "text": [
      "id 2\n",
      "name rohit\n",
      "salary 743231.0\n"
     ]
    }
   ],
   "source": [
    "class Faculty:\n",
    "    def putdata(self):\n",
    "        self.id = int(input (\"enter id\"))\n",
    "        self.name = (input (\"enter name\"))\n",
    "        self.salary = float(input (\"enter salary\"))\n",
    "    def display(self):\n",
    "        #_sth\n",
    "        print(\"id\", self.id)\n",
    "        print (\"name\", self.name)\n",
    "        print(\"salary\", self.salary)\n",
    "\n",
    "a = Faculty()\n",
    "a.putdata()\n",
    "a.display()"
   ]
  },
  {
   "cell_type": "code",
   "execution_count": 13,
   "metadata": {},
   "outputs": [
    {
     "name": "stdout",
     "output_type": "stream",
     "text": [
      "hi how are you rohit and i think you are 25 years old\n"
     ]
    }
   ],
   "source": [
    "#create a class of person with attribute name and age write a method greet()that print a greeting method including persons name \n",
    "class person:\n",
    "    def __init__(self,name,age):\n",
    "        self.name =name\n",
    "        self.age = age\n",
    "    def greet(self):\n",
    "        print(f\"hi how are you {self.name} and i think you are {self.age} years old\")\n",
    "\n",
    "a = person(\"rohit\",25)\n",
    "a.greet()\n",
    "        "
   ]
  },
  {
   "cell_type": "code",
   "execution_count": 44,
   "metadata": {},
   "outputs": [
    {
     "name": "stdout",
     "output_type": "stream",
     "text": [
      "deposited60 new balance 56060\n",
      "withdrawl5 new balance 56055\n"
     ]
    }
   ],
   "source": [
    "#create bank account class with attribute account holder and balance impliment method to deposite and withdraw money\n",
    "class Bank_account:\n",
    "    def __init__(self,name,balance):\n",
    "        self.name = name\n",
    "        self.balance = balance \n",
    "        \n",
    "\n",
    "    def deposite(self, amount):\n",
    "        if amount>0:\n",
    "            self.balance += amount\n",
    "            print(f\"deposited{amount} new balance {self.balance}\")\n",
    "\n",
    "        else:\n",
    "            print(\"deposite amount must be positive\")\n",
    "\n",
    "    def withdraw(self,amount):\n",
    "        if 0<amount<=self.balance:\n",
    "            self.balance-= amount\n",
    "            print(f\"withdrawl{amount} new balance {self.balance}\")\n",
    "        else:\n",
    "            print(\"invalid withdrawl amount or insufficient funds\")\n",
    "\n",
    "c = Bank_account(\"rohit\",56000)\n",
    "c.deposite(60)\n",
    "c.withdraw(5)\n",
    "\n"
   ]
  },
  {
   "cell_type": "code",
   "execution_count": 25,
   "metadata": {},
   "outputs": [
    {
     "name": "stdout",
     "output_type": "stream",
     "text": [
      "Title: The kite runner\n",
      "Author: rohit kaushal\n",
      "Price: ₹399.00\n",
      "\n",
      "Title: jiya ho bihar ke lala\n",
      "Author: shiwam kumar\n",
      "Price: ₹0.00\n"
     ]
    }
   ],
   "source": [
    "#create a book class with author title or its price impliment a method get info that returns the books detail\n",
    "\n",
    "class Book:\n",
    "    def __init__(self, title, author, price):\n",
    "        self.title = title\n",
    "        self.author = author\n",
    "        self.price = price\n",
    "\n",
    "    def get_info(self):\n",
    "        return f\"Title: {self.title}\\nAuthor: {self.author}\\nPrice: ₹{self.price:.2f}\"\n",
    "\n",
    "\n",
    "book1 = Book(\"The kite runner\", \"rohit kaushal\", 399)\n",
    "book2 = Book(\"jiya ho bihar ke lala\", \"shiwam kumar\", 0)\n",
    "\n",
    "print(book1.get_info())\n",
    "print()\n",
    "print(book2.get_info())\n",
    "    "
   ]
  },
  {
   "cell_type": "code",
   "execution_count": 29,
   "metadata": {},
   "outputs": [
    {
     "data": {
      "text/plain": [
       "18.84"
      ]
     },
     "execution_count": 29,
     "metadata": {},
     "output_type": "execute_result"
    }
   ],
   "source": [
    "#create a circle class with attributes radius impliment method for getting area of the circle and calculate circufernece\n",
    "\n",
    "class Circle:\n",
    "    def __init__(self,radius):\n",
    "        self.radius = radius\n",
    "\n",
    "    def area(self):\n",
    "        return 3.14*self.radius**2\n",
    "    def circumference(self):\n",
    "        return 2*3.14*self.radius\n",
    "    \n",
    "c1 = Circle(3)\n",
    "c1.area()\n",
    "c1.circumference()\n"
   ]
  },
  {
   "cell_type": "code",
   "execution_count": null,
   "metadata": {},
   "outputs": [
    {
     "name": "stdout",
     "output_type": "stream",
     "text": [
      "Student: Rohit\n",
      "Marks: [85, 90, 78, 92, 88]\n",
      "Average: 86.60\n",
      "\n",
      "Student: Aman\n",
      "Marks: [75, 80, 82, 79]\n",
      "Average: 79.00\n"
     ]
    }
   ],
   "source": [
    "#create a student class with attribute student list marks impliment a method calculate average function\n",
    "\n",
    "class Student:\n",
    "    def __init__(self, name, marks):\n",
    "        self.name = name\n",
    "        self.marks = marks\n",
    "\n",
    "    def calculate_average(self):\n",
    "        if not self.marks:  # Check if the list is empty\n",
    "            return 0\n",
    "        return sum(self.marks) / len(self.marks)\n",
    "\n",
    "    def get_info(self):\n",
    "        return f\"Student: {self.name}\\nMarks: {self.marks}\\nAverage: {self.calculate_average():.2f}\"\n",
    "\n",
    "\n",
    "student1 = Student(\"Rohit\", [85, 90, 78, 92, 88])\n",
    "student2 = Student(\"Aman\", [75, 80, 82, 79])\n",
    "\n",
    "print(student1.get_info())\n",
    "print()\n",
    "print(student2.get_info())\n"
   ]
  },
  {
   "cell_type": "code",
   "execution_count": null,
   "metadata": {},
   "outputs": [
    {
     "name": "stdout",
     "output_type": "stream",
     "text": [
      "Rohit\n",
      "22\n"
     ]
    }
   ],
   "source": [
    "class Student:\n",
    "    def __init__(self, name, age):\n",
    "        self.name = name       # Public attribute\n",
    "        self.__age = age       # Private attribute (Note: `__age`)\n",
    "\n",
    "    def get_age(self):\n",
    "        \"\"\"Getter method to access the private attribute\"\"\"\n",
    "        return self.__age\n",
    "\n",
    "    def set_age(self, new_age):\n",
    "        \"\"\"Setter method to modify the private attribute\"\"\"\n",
    "        if new_age > 0:\n",
    "            self.__age = new_age\n",
    "        else:\n",
    "            print(\"Invalid age!\")\n",
    "\n",
    "# Example Usage\n",
    "s = Student(\"Rohit\", 22)\n",
    "\n",
    "print(s.name)      \n",
    "# print(s.__age)   \n",
    "print(s.get_age()) \n",
    "\n",
    "# s.set_age(25)     \n",
    "# print(s.get_age()) # ✅ Output: 25"
   ]
  },
  {
   "cell_type": "code",
   "execution_count": 46,
   "metadata": {},
   "outputs": [
    {
     "data": {
      "text/plain": [
       "'Grandi10'"
      ]
     },
     "execution_count": 46,
     "metadata": {},
     "output_type": "execute_result"
    }
   ],
   "source": [
    "class vehicle:\n",
    "    def __init__(self,brand,year):\n",
    "        self.brand = brand\n",
    "        self.year = year\n",
    "\n",
    "class car(vehicle):\n",
    "    def __init__(self,model,mileage,brand,year):\n",
    "        super().__init__(brand,year)\n",
    "        self.model = model\n",
    "        self.mileage = mileage\n",
    "    # def display():\n",
    "\n",
    "\n",
    "c1 = car(\"Hyundai\",\"2014\",\"Grandi10\",\"24 kmpl\")\n",
    "c1.brand\n",
    "\n"
   ]
  },
  {
   "cell_type": "code",
   "execution_count": null,
   "metadata": {},
   "outputs": [
    {
     "name": "stdout",
     "output_type": "stream",
     "text": [
      "Brand: Hyundai, Year: 2014, Model: Grand i10, Mileage: 24 kmpl\n"
     ]
    }
   ],
   "source": [
    "class Vehicle:\n",
    "    def __init__(self, brand, year):\n",
    "        self.brand = brand\n",
    "        self.year = year\n",
    "\n",
    "class Car(Vehicle):\n",
    "    def __init__(self, brand, year, model, mileage):\n",
    "        super().__init__(brand, year) \n",
    "        self.__model = model\n",
    "        self.mileage = mileage\n",
    "\n",
    "    def get_model(self):  \n",
    "        return self.__model\n",
    "\n",
    "    def display(self):\n",
    "        print(f\"Brand: {self.brand}, Year: {self.year}, Model: {self.model}, Mileage: {self.mileage}\")\n",
    "\n",
    "\n",
    "c1 = Car(\"Hyundai\", \"2014\", \"Grand i10\", \"24 kmpl\")\n",
    "\n",
    "# print(c1.get_model())\n",
    "\n",
    "c1.display()"
   ]
  },
  {
   "cell_type": "code",
   "execution_count": 59,
   "metadata": {},
   "outputs": [
    {
     "name": "stdout",
     "output_type": "stream",
     "text": [
      "Method from Parent1\n",
      "Method from Parent2\n",
      "Method from Child\n"
     ]
    }
   ],
   "source": [
    "class Parent1:\n",
    "\n",
    "  def __init(self, bank_acc, address,username ,password):\n",
    "    self.__bank_acc = bank_acc\n",
    "    self.address = address\n",
    "    self.username = username\n",
    "    self.__password  = password\n",
    "\n",
    "  def method1(self):\n",
    "        print(\"Method from Parent1\")\n",
    "\n",
    "\n",
    "  def get_bank_acc(self):  \n",
    "        return self.__bank_acc\n",
    "  def get_password(self):  \n",
    "        return self.__password\n",
    "\n",
    "\n",
    "class Parent2:\n",
    "    def method2(self):\n",
    "        print(\"Method from Parent2\")\n",
    "\n",
    "\n",
    "class Child(Parent1, Parent2):  # Multiple inheritance\n",
    "    def method3(self):\n",
    "        print(\"Method from Child\")\n",
    "\n",
    "\n",
    "\n",
    "obj = Child()\n",
    "obj.method1()  # Inherited from Parent1\n",
    "obj.method2()  # Inherited from Parent2\n",
    "obj.method3()  # Child class method"
   ]
  },
  {
   "cell_type": "code",
   "execution_count": null,
   "metadata": {},
   "outputs": [
    {
     "name": "stdout",
     "output_type": "stream",
     "text": [
      "Method from Parent1\n",
      "Method from Parent2\n",
      "Method from Child\n",
      "\n",
      "--- User Details ---\n",
      "Bank Account: 1234567890\n",
      "Address: New York\n",
      "Username: rohit_k\n",
      "Password: securePass\n"
     ]
    }
   ],
   "source": [
    "class Parent1:\n",
    "    def __init__(self, bank_acc, address):\n",
    "        self.__bank_acc = bank_acc  \n",
    "        self.address = address\n",
    "\n",
    "    def method1(self):\n",
    "        print(\"Method from Parent1\")\n",
    "\n",
    "    def get_bank_acc(self):  \n",
    "        return self.__bank_acc  \n",
    "\n",
    "\n",
    "class Parent2:\n",
    "    def __init__(self, username, password):\n",
    "        self.username = username\n",
    "        self.__password = password  \n",
    "\n",
    "    def method2(self):\n",
    "        print(\"Method from Parent2\")\n",
    "\n",
    "    def get_password(self):  \n",
    "        return self.__password  \n",
    "\n",
    "\n",
    "class Child(Parent1, Parent2): \n",
    "    def __init__(self, bank_acc, address, username, password):\n",
    "        Parent1.__init__(self, bank_acc, address)  \n",
    "        Parent2.__init__(self, username, password) \n",
    "\n",
    "    def method3(self):\n",
    "        print(\"Method from Child\")\n",
    "\n",
    "    def display(self):\n",
    "        \"\"\"Display all details.\"\"\"\n",
    "        print(\"\\n--- User Details ---\")\n",
    "        print(f\"Bank Account: {self.get_bank_acc()}\")  \n",
    "        print(f\"Address: {self.address}\")\n",
    "        print(f\"Username: {self.username}\")\n",
    "        print(f\"Password: {self.get_password()}\") \n",
    "\n",
    "\n",
    "\n",
    "obj = Child(\"1234567890\", \"New York\", \"rohit_k\", \"securePass\")\n",
    "\n",
    "obj.method1()  \n",
    "obj.method2()  \n",
    "obj.method3()  \n",
    "\n",
    "obj.display()"
   ]
  },
  {
   "cell_type": "code",
   "execution_count": null,
   "metadata": {},
   "outputs": [],
   "source": [
    "class Animal:\n",
    "    def speak(self):\n",
    "        print (\"Animals make sounds\")\n",
    "# Child class 1\n",
    "class Dog(Animal):\n",
    "    def bark(self):\n",
    "        print (\"Dog barks: Woof Woof!\")\n",
    "# Child class 2\n",
    "class Cat(Animal):\n",
    "    def meow(self):\n",
    "        print (\"Cat meows: Meow Meow!\")"
   ]
  }
 ],
 "metadata": {
  "kernelspec": {
   "display_name": "Python 3",
   "language": "python",
   "name": "python3"
  },
  "language_info": {
   "codemirror_mode": {
    "name": "ipython",
    "version": 3
   },
   "file_extension": ".py",
   "mimetype": "text/x-python",
   "name": "python",
   "nbconvert_exporter": "python",
   "pygments_lexer": "ipython3",
   "version": "3.11.5"
  }
 },
 "nbformat": 4,
 "nbformat_minor": 2
}
