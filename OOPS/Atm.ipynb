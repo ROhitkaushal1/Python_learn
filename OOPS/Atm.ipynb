{
 "cells": [
  {
   "cell_type": "code",
   "execution_count": 14,
   "id": "18f70e4f",
   "metadata": {},
   "outputs": [],
   "source": [
    "class Atm:\n",
    "\n",
    "    __counter  = 1\n",
    "    def __init__(self):\n",
    "        self.__pin = \"\"\n",
    "        self.__balance = 0\n",
    "        self.sno = Atm.__counter\n",
    "        Atm.__counter = Atm.__counter+1\n",
    "\n",
    "        # self.menu()\n",
    "    @staticmethod\n",
    "    def get_counter():\n",
    "        return Atm.__counter\n",
    "    @staticmethod\n",
    "    def set_counter(new):\n",
    "        if type(new )== int:\n",
    "            Atm.__counter  = new\n",
    "        else:\n",
    "            print(\"not allowed\")\n",
    "\n",
    "    def menu(self):\n",
    "        user_input = input(\"\"\"\n",
    "                    Hello how would you like to proceed\n",
    "                    1. Press 1 to create ATM pin\n",
    "                    2. Press 2 to deposite\n",
    "                    3. Press 3 to withdrawl\n",
    "                    4. Press 4 to check balance\n",
    "                    5. Press 5 to exit\n",
    "                           \"\"\")\n",
    "        if user_input == \"1\":\n",
    "            self.create_pin()\n",
    "        elif user_input == \"2\":\n",
    "            self.deposite()\n",
    "        elif user_input == \"3\":\n",
    "            self.withdrawl()\n",
    "        elif user_input == \"4\":\n",
    "            self.check_balance()\n",
    "        else:\n",
    "            print(\"bye\")\n",
    "    def get_pin(self):\n",
    "        return self.__pin\n",
    "    def set_pin(self, new_pin):\n",
    "        if type(new_pin)==str:\n",
    "            self.__pin = new_pin\n",
    "            print(\"Pin changed\")\n",
    "        else:\n",
    "            print(\"Not Allowed\")\n",
    "    def create_pin(self):\n",
    "        self.__pin = input(\"enter your pin\")\n",
    "        print(\"pin set successfully\")\n",
    "        self.menu()\n",
    "    def deposite(self):\n",
    "        temp = input(\"enter your pin\")\n",
    "        if temp == self.__pin:\n",
    "            amount = int(input(\"enter your amount\"))\n",
    "            self.__balance = self.__balance +amount\n",
    "            print(\"deposite successfully\")\n",
    "        else:\n",
    "            print(\"Invalid pin\")\n",
    "        self.menu()\n",
    "    def withdrawl(self):\n",
    "        temp = input(\"enter your pin\")\n",
    "        if temp == self.__pin:\n",
    "            amount = int(input(\"enter your amount\"))\n",
    "            if amount<self.__balance:\n",
    "               self.__balance = self.__balance - amount\n",
    "            else:\n",
    "                print(\"Insufficient balance\")\n",
    "        else:\n",
    "            print(\"Invalid pin\")\n",
    "        self.menu()\n",
    "    def check_balance(self):\n",
    "        temp = input(\"enter your pin\")\n",
    "        if temp == self.pin:\n",
    "            print(self.__balance)\n",
    "        else:\n",
    "            print(\"Invalid pin\")\n",
    "        self.menu()\n",
    "\n",
    "\n",
    "    \n"
   ]
  },
  {
   "cell_type": "code",
   "execution_count": 23,
   "id": "1c08eef6",
   "metadata": {},
   "outputs": [
    {
     "data": {
      "text/plain": [
       "3"
      ]
     },
     "execution_count": 23,
     "metadata": {},
     "output_type": "execute_result"
    }
   ],
   "source": [
    "c1 = Atm()\n",
    "\n",
    "Atm.set_counter(3)\n",
    "Atm.get_counter()\n"
   ]
  },
  {
   "cell_type": "code",
   "execution_count": null,
   "id": "6a6b1554",
   "metadata": {},
   "outputs": [],
   "source": []
  },
  {
   "cell_type": "code",
   "execution_count": null,
   "id": "81b0efc7",
   "metadata": {},
   "outputs": [],
   "source": []
  }
 ],
 "metadata": {
  "kernelspec": {
   "display_name": "Python 3",
   "language": "python",
   "name": "python3"
  },
  "language_info": {
   "codemirror_mode": {
    "name": "ipython",
    "version": 3
   },
   "file_extension": ".py",
   "mimetype": "text/x-python",
   "name": "python",
   "nbconvert_exporter": "python",
   "pygments_lexer": "ipython3",
   "version": "3.11.5"
  }
 },
 "nbformat": 4,
 "nbformat_minor": 5
}
