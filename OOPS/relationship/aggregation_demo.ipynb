{
 "cells": [
  {
   "cell_type": "code",
   "execution_count": 5,
   "id": "821949b8",
   "metadata": {},
   "outputs": [],
   "source": [
    "class Customer:\n",
    "    def __init__(self,name,age,gender,address):\n",
    "        self.name = name\n",
    "        self.age = age\n",
    "        self.gender = gender\n",
    "        self.address = address\n",
    "\n",
    "    def change_profile(self,new_name,new_age,new_city,new_pincode,new_state):\n",
    "        self.name = new_name\n",
    "        self.age = new_age\n",
    "        self.address.change_address(new_city,new_pincode,new_state)\n",
    "class Address:\n",
    "    def __init__(self,city,pincode,state):\n",
    "        self.city = city\n",
    "        self.pincode = pincode\n",
    "        self.state = state\n",
    "    def change_address(self,new_city,new_pincode,new_state):\n",
    "        self.city = new_city\n",
    "        self.pincode = new_pincode\n",
    "        self.state = new_state\n",
    "add = Address(\"Ghumarwin\",174021,\"Himachal pardesh\")\n",
    "cust = Customer(\"rohit\",24,\"male\",add)       "
   ]
  },
  {
   "cell_type": "code",
   "execution_count": 11,
   "id": "69ed16e8",
   "metadata": {},
   "outputs": [
    {
     "data": {
      "text/plain": [
       "'kuthera'"
      ]
     },
     "execution_count": 11,
     "metadata": {},
     "output_type": "execute_result"
    }
   ],
   "source": [
    "cust.address.pincode\n",
    "cust.change_profile(\"pankaj\",25,\"kuthera\",174021,\"himachal pardeesh\")\n",
    "cust.address.city"
   ]
  },
  {
   "cell_type": "code",
   "execution_count": null,
   "id": "c22c55b6",
   "metadata": {},
   "outputs": [],
   "source": []
  }
 ],
 "metadata": {
  "kernelspec": {
   "display_name": "Python 3",
   "language": "python",
   "name": "python3"
  },
  "language_info": {
   "codemirror_mode": {
    "name": "ipython",
    "version": 3
   },
   "file_extension": ".py",
   "mimetype": "text/x-python",
   "name": "python",
   "nbconvert_exporter": "python",
   "pygments_lexer": "ipython3",
   "version": "3.11.5"
  }
 },
 "nbformat": 4,
 "nbformat_minor": 5
}
