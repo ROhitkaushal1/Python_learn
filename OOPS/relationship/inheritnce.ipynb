{
 "cells": [
  {
   "cell_type": "markdown",
   "id": "11d44f37",
   "metadata": {},
   "source": [
    "# Inheritance"
   ]
  },
  {
   "cell_type": "code",
   "execution_count": 14,
   "id": "745ce2be",
   "metadata": {},
   "outputs": [],
   "source": [
    "class phone:\n",
    "    def __init__(self,price,brand,camera):\n",
    "        self.price = price\n",
    "        self.brand = brand\n",
    "        self.camera = camera\n",
    "    def buy(self):\n",
    "        print(\"new phone buy\")\n",
    "class smartphone(phone):\n",
    "    def buy(self):\n",
    "        print(\"new smartphone buy\")\n",
    "        super().buy()"
   ]
  },
  {
   "cell_type": "code",
   "execution_count": 15,
   "id": "c69a3c42",
   "metadata": {},
   "outputs": [
    {
     "name": "stdout",
     "output_type": "stream",
     "text": [
      "xiaomi\n",
      "ziess\n",
      "20000\n"
     ]
    }
   ],
   "source": [
    "s = smartphone(20000,\"xiaomi\",\"ziess\")\n",
    "print(s.brand)\n",
    "print(s.camera)\n",
    "print(s.price)"
   ]
  },
  {
   "cell_type": "code",
   "execution_count": 16,
   "id": "7d989daf",
   "metadata": {},
   "outputs": [
    {
     "name": "stdout",
     "output_type": "stream",
     "text": [
      "new smartphone buy\n",
      "new phone buy\n"
     ]
    }
   ],
   "source": [
    "s.buy()\n"
   ]
  },
  {
   "cell_type": "code",
   "execution_count": 18,
   "id": "29efda96",
   "metadata": {},
   "outputs": [],
   "source": [
    "class phone:\n",
    "    def __init__(self,price,brand,camera):\n",
    "        self.price = price\n",
    "        self.brand = brand\n",
    "        self.camera = camera\n",
    "    \n",
    "class smartphone(phone):\n",
    "    def __init__(self,price,brand,camera,os,ram):\n",
    "        super().__init__(price,brand,camera)\n",
    "        self.os = os\n",
    "        self.ram = ram\n",
    "        print(\"new smartphone buy\")\n",
    "        "
   ]
  },
  {
   "cell_type": "code",
   "execution_count": 19,
   "id": "75415a6a",
   "metadata": {},
   "outputs": [
    {
     "name": "stdout",
     "output_type": "stream",
     "text": [
      "new smartphone buy\n"
     ]
    }
   ],
   "source": [
    "s = smartphone(92000,\"apple\",\"48mp\",\"ios\",\"12gb\")"
   ]
  },
  {
   "cell_type": "code",
   "execution_count": 22,
   "id": "c3248362",
   "metadata": {},
   "outputs": [
    {
     "name": "stdout",
     "output_type": "stream",
     "text": [
      "ios\n"
     ]
    }
   ],
   "source": [
    "print(s.os)"
   ]
  },
  {
   "cell_type": "code",
   "execution_count": 25,
   "id": "4efb75a8",
   "metadata": {},
   "outputs": [],
   "source": [
    "class Parent:\n",
    "    def __init__(self):\n",
    "        self.num = 100\n",
    "\n",
    "class Child(Parent):\n",
    "    def __init__(self):\n",
    "        super().__init__()\n",
    "        self.var = 200\n",
    "    def show(self):\n",
    "        print(self.var)\n",
    "        print(self.num)\n"
   ]
  },
  {
   "cell_type": "code",
   "execution_count": 26,
   "id": "504bf982",
   "metadata": {},
   "outputs": [
    {
     "name": "stdout",
     "output_type": "stream",
     "text": [
      "200\n",
      "100\n"
     ]
    }
   ],
   "source": [
    "son = Child()\n",
    "son.show()"
   ]
  },
  {
   "cell_type": "code",
   "execution_count": 30,
   "id": "4d9635b5",
   "metadata": {},
   "outputs": [
    {
     "name": "stdout",
     "output_type": "stream",
     "text": [
      "Parent: 100\n",
      "Child: 10\n"
     ]
    }
   ],
   "source": [
    "class Parent:\n",
    "    def __init__(self):\n",
    "        self.__num=100\n",
    "    def show(self):\n",
    "        print(\"Parent:\", self.__num)\n",
    "class Child(Parent): \n",
    "    def __init__(self):\n",
    "        super().__init__()\n",
    "        self.__var=10\n",
    "    def show(self):\n",
    "        print(\"Child:\",self.__var)\n",
    "dad=Parent()\n",
    "dad.show()\n",
    "son=Child ()\n",
    "son.show()"
   ]
  },
  {
   "cell_type": "code",
   "execution_count": null,
   "id": "d85c8171",
   "metadata": {},
   "outputs": [],
   "source": []
  }
 ],
 "metadata": {
  "kernelspec": {
   "display_name": "Python 3",
   "language": "python",
   "name": "python3"
  },
  "language_info": {
   "codemirror_mode": {
    "name": "ipython",
    "version": 3
   },
   "file_extension": ".py",
   "mimetype": "text/x-python",
   "name": "python",
   "nbconvert_exporter": "python",
   "pygments_lexer": "ipython3",
   "version": "3.11.5"
  }
 },
 "nbformat": 4,
 "nbformat_minor": 5
}
