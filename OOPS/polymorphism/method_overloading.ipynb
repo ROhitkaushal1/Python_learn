{
 "cells": [
  {
   "cell_type": "markdown",
   "id": "35c90a0d",
   "metadata": {},
   "source": [
    "# technically in python method overloading is not possible\n",
    "# but with some tricks we can perform method overloading "
   ]
  },
  {
   "cell_type": "code",
   "execution_count": 2,
   "id": "69aef223",
   "metadata": {},
   "outputs": [
    {
     "name": "stdout",
     "output_type": "stream",
     "text": [
      "circle 50.24\n",
      "rect 20\n"
     ]
    }
   ],
   "source": [
    "class geometry:\n",
    "    def area(self,a,b=0):\n",
    "        if(b==0):\n",
    "            print(\"circle\",3.14*a*a)\n",
    "        else:\n",
    "            print(\"rect\", a*b)\n",
    "\n",
    "obj1 = geometry()\n",
    "obj1.area(4)\n",
    "obj1.area(4,5)"
   ]
  },
  {
   "cell_type": "code",
   "execution_count": null,
   "id": "02ba80b1",
   "metadata": {},
   "outputs": [],
   "source": []
  },
  {
   "cell_type": "code",
   "execution_count": null,
   "id": "9c8e6ef4",
   "metadata": {},
   "outputs": [],
   "source": []
  }
 ],
 "metadata": {
  "kernelspec": {
   "display_name": "Python 3",
   "language": "python",
   "name": "python3"
  },
  "language_info": {
   "codemirror_mode": {
    "name": "ipython",
    "version": 3
   },
   "file_extension": ".py",
   "mimetype": "text/x-python",
   "name": "python",
   "nbconvert_exporter": "python",
   "pygments_lexer": "ipython3",
   "version": "3.11.5"
  }
 },
 "nbformat": 4,
 "nbformat_minor": 5
}
