{
 "cells": [
  {
   "cell_type": "code",
   "execution_count": 3,
   "metadata": {},
   "outputs": [],
   "source": [
    "class data_input:\n",
    "    def __init__(self):\n",
    "        self.filing_status = input(\"enter your filing status:\")\n",
    "        self.income = int(input(\"enter your income:\"))\n",
    "        self.child = int(input(\"no. of childerns:\"))\n",
    "        self.age = int(input(\"enter your age:\"))\n",
    "\n",
    "class Tax_calculator(data_input):\n",
    "    def Calculate(self):\n",
    "      \n",
    "        if(self.filing_status.lower()==\"single\" ):\n",
    "\n",
    "            if(self.income<50000):\n",
    "                tax = self.income/10\n",
    "                \n",
    "            elif(50000<= self.income<100000):\n",
    "                tax =self.income/20\n",
    "\n",
    "            else:\n",
    "                tax =self.income/30\n",
    "\n",
    "            return tax \n",
    "\n",
    "        elif(self.filing_status.lower()==\"married\" ):\n",
    "\n",
    "            if(self.income<100000):\n",
    "                tax = self.income/5\n",
    "                \n",
    "            elif(100000<= self.income<250000):\n",
    "                tax =self.income/15\n",
    "\n",
    "            else:\n",
    "                tax =self.income/25\n",
    "\n",
    "            return tax\n",
    "\n",
    "    def credit_child(self, tax):\n",
    "        if self.child > 0 and tax > 2000:\n",
    "            return self.child * 2000\n",
    "        return 0\n",
    "        \n",
    "    def credit_age(self, tax):\n",
    "        if self.age > 60 and tax > 1000:\n",
    "            return 1000\n",
    "        return 0\n",
    "        "
   ]
  },
  {
   "cell_type": "code",
   "execution_count": null,
   "metadata": {},
   "outputs": [
    {
     "name": "stdout",
     "output_type": "stream",
     "text": [
      "\n",
      " Tax Summary:\n",
      " Tax Amount: 40000.0\n",
      " Child Tax Credit: 10000\n",
      " Age Tax Credit: 1000\n",
      " Final Tax to be Paid: 29000.0\n"
     ]
    }
   ],
   "source": [
    "taxpayer = Tax_calculator()  \n",
    "tax = taxpayer.Calculate()  \n",
    "credit = taxpayer.credit_child(tax)  \n",
    "credit2 = taxpayer.credit_age(tax)  \n",
    "total_credit = credit + credit2\n",
    "\n",
    "if tax - total_credit < 0:\n",
    "    credit = max(0, tax - credit2) \n",
    "    final_tax = 0\n",
    "else:\n",
    "    final_tax = tax - total_credit \n",
    "\n"
   ]
  },
  {
   "cell_type": "code",
   "execution_count": null,
   "metadata": {},
   "outputs": [
    {
     "name": "stdout",
     "output_type": "stream",
     "text": [
      "\n",
      " Tax Summary:\n",
      " Tax Amount: 40000.0\n",
      " Child Tax Credit: 10000\n",
      " Age Tax Credit: 1000\n",
      " Final Tax to be Paid: 29000.0\n",
      "\n",
      "The user is:\n",
      " Married\n",
      " is 78 years old\n",
      " has 5 children\n",
      " earns $1,000,000 out of which amount payable as tax will be: $29,000.0\n"
     ]
    }
   ],
   "source": [
    "print(\"\\n Tax Summary:\")\n",
    "print(f\" Tax Amount: {tax}\")\n",
    "print(f\" Child Tax Credit: {credit}\")\n",
    "print(f\" Age Tax Credit: {credit2}\")\n",
    "print(f\" Final Tax to be Paid: {final_tax}\")\n",
    "print(\"\\nThe user is:\")\n",
    "print(f\" Married\" if taxpayer.filing_status.lower() == \"married\" else \" * Single\")\n",
    "print(f\" is {taxpayer.age} years old\")\n",
    "print(f\" has {taxpayer.child} children\" if taxpayer.child > 0 else \" * has no children\")\n",
    "print(f\" earns ${taxpayer.income:,.0f} out of which amount payable as tax will be: ${final_tax:,.1f}\")"
   ]
  },
  {
   "cell_type": "code",
   "execution_count": null,
   "metadata": {},
   "outputs": [],
   "source": []
  }
 ],
 "metadata": {
  "kernelspec": {
   "display_name": "Python 3",
   "language": "python",
   "name": "python3"
  },
  "language_info": {
   "codemirror_mode": {
    "name": "ipython",
    "version": 3
   },
   "file_extension": ".py",
   "mimetype": "text/x-python",
   "name": "python",
   "nbconvert_exporter": "python",
   "pygments_lexer": "ipython3",
   "version": "3.11.5"
  }
 },
 "nbformat": 4,
 "nbformat_minor": 2
}
