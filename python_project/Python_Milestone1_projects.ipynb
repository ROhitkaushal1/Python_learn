{
 "cells": [
  {
   "cell_type": "markdown",
   "id": "ba215cb1-672d-420f-b331-bc88f14224cc",
   "metadata": {},
   "source": [
    "# Milestone Project 1: Income Tax Calculation Project"
   ]
  },
  {
   "cell_type": "code",
   "execution_count": 1,
   "id": "4e37233b-cb90-4790-a518-526187a516e4",
   "metadata": {},
   "outputs": [],
   "source": [
    "\n",
    "# If single:\n",
    "#     Income < $50,000: Tax = 10%\n",
    "#     $50,000 ≤ Income < $100,000: Tax = 20%\n",
    "#     Income ≥ $100,000: Tax = 30%\n",
    "\n",
    "# If married:\n",
    "#     Income < $100,000: Tax = 5%\n",
    "#     $100,000 ≤ Income < $250,000: Tax = 15%\n",
    "#     Income ≥ $250,000: Tax = 25%\n",
    "\n",
    "# A child tax credit applies:\n",
    "#     $2,000 credit per child if the tax calculated exceeds $2,000. (The tax cannot be reduced below $0.)\n",
    "#     If the person is retired (age ≥ 65), a 5% discount on the final tax applies (after the child tax credit is applied)."
   ]
  },
  {
   "cell_type": "markdown",
   "id": "f22eba31-ca4d-4027-8beb-2dacfeda1ab6",
   "metadata": {},
   "source": [
    "# How It Works:"
   ]
  },
  {
   "cell_type": "code",
   "execution_count": null,
   "id": "25f08427-23ed-45e8-91a9-996d14572014",
   "metadata": {},
   "outputs": [],
   "source": [
    "# User input: \n",
    "\n",
    "#Filing status (single/married),Income, Number of children, Age\n",
    "\n",
    "# Tax Calculation: \n",
    "\n",
    "#he program determines the tax rate based on the filing status and income.\n",
    "#The initial tax is computed using the corresponding tax rate.\n",
    "\n",
    "# Applying the Child Tax Credit:\n",
    "\n",
    "#If the tax is greater than $2,000, a $2,000 credit per child is applied.\n",
    "#The tax cannot go below $0 due to the credit.\n",
    "\n",
    "# Applying the Retirement Discount:\n",
    "#If the person is retired (age ≥ 65), a 5% discount is applied to the tax after the child credit.\n",
    "\n",
    "# Final Tax Display:\n",
    "\n",
    "#The program prints a summary of the user’s details and the final tax amount."
   ]
  },
  {
   "cell_type": "markdown",
   "id": "3d09b4b0-94b8-43f5-ba1d-75cf4466044e",
   "metadata": {},
   "source": [
    "# Milestone Project 2: Library Management System (Using Functions in Python)"
   ]
  },
  {
   "cell_type": "code",
   "execution_count": null,
   "id": "40baf046-1740-41e0-b0af-963b81426036",
   "metadata": {},
   "outputs": [],
   "source": [
    "# Create a simple Library Management System where users (librarians) can:\n",
    "\n",
    "# Add new books\n",
    "# Remove books\n",
    "# Borrow books\n",
    "# Return books\n",
    "# Display all available books"
   ]
  },
  {
   "cell_type": "markdown",
   "id": "5b0291c6-724e-447b-9ef8-22b66e5b1380",
   "metadata": {},
   "source": [
    "# Project Requirements\n",
    "✅ Use functions to structure the code\n",
    "✅ Work with lists & dictionaries to store book details\n",
    "✅ Implement loops & conditionals for smooth operation"
   ]
  },
  {
   "cell_type": "markdown",
   "id": "e1b12c06-361e-47e3-86e6-8ce85c90c09d",
   "metadata": {},
   "source": [
    "# How It Works:"
   ]
  },
  {
   "cell_type": "code",
   "execution_count": 2,
   "id": "137acd3e-8986-4bc5-a037-ec7e437dae74",
   "metadata": {},
   "outputs": [],
   "source": [
    "#The program initializes an empty library (a dictionary with a list of books\n",
    "#Various functions handle different tasks:\n",
    "#add_book(): Adds a book with title, author, and availability.\n",
    "#remove_book(): Removes a book by title.\n",
    "#borrow_book(): Marks a book as borrowed (if available).\n",
    "#return_book(): Marks a book as available again.\n",
    "#display_books(): Shows all books and their statuses.\n",
    "\n",
    "#The main() function provides a menu-driven interface, allowing users to interact with the system."
   ]
  },
  {
   "cell_type": "markdown",
   "id": "509b97ac-ce4c-466d-aeed-1edefedfac7c",
   "metadata": {},
   "source": [
    "# Milestone Project 3 : Student Grade Management System"
   ]
  },
  {
   "cell_type": "code",
   "execution_count": 4,
   "id": "3225db43-1ade-4213-889d-8b2459dad3ec",
   "metadata": {},
   "outputs": [],
   "source": [
    "#Create a Python program that allows a teacher to manage students' grades. The program should:\n",
    "\n",
    "#Store student records using lists and dictionaries.\n",
    "#Allow adding, updating, and removing student records.\n",
    "#Calculate average marks using functions.\n",
    "#Use map() to apply grading logic."
   ]
  },
  {
   "cell_type": "markdown",
   "id": "34b2cc07-ef26-4cbf-b945-1b5124dac795",
   "metadata": {},
   "source": [
    "# How It Works:"
   ]
  },
  {
   "cell_type": "code",
   "execution_count": null,
   "id": "90a69006-76b7-46f9-abf5-7d25df157721",
   "metadata": {},
   "outputs": [],
   "source": [
    "# 1. Define the Data Structure\n",
    "# Use a dictionary to store student data.\n",
    "# Each student should have a name, student ID, and a list of marks."
   ]
  },
  {
   "cell_type": "code",
   "execution_count": null,
   "id": "b0803722-7e10-4384-8836-2fa6b17dc6d0",
   "metadata": {},
   "outputs": [],
   "source": [
    "# 2. Implement the Following Functionalities:\n",
    "\n",
    "# ✅ Add a new student record (name, ID, and marks list).\n",
    "# ✅ Remove a student record by student ID.\n",
    "# ✅ Update a student's marks.\n",
    "# ✅ Calculate and display the average marks of a student.\n",
    "# ✅ Assign grades to students using map().\n",
    "# ✅ Display all student records in a formatted way."
   ]
  },
  {
   "cell_type": "code",
   "execution_count": null,
   "id": "edd51313-355f-4708-820c-723a700254c5",
   "metadata": {},
   "outputs": [],
   "source": []
  }
 ],
 "metadata": {
  "kernelspec": {
   "display_name": "Python 3 (ipykernel)",
   "language": "python",
   "name": "python3"
  },
  "language_info": {
   "codemirror_mode": {
    "name": "ipython",
    "version": 3
   },
   "file_extension": ".py",
   "mimetype": "text/x-python",
   "name": "python",
   "nbconvert_exporter": "python",
   "pygments_lexer": "ipython3",
   "version": "3.12.4"
  }
 },
 "nbformat": 4,
 "nbformat_minor": 5
}
