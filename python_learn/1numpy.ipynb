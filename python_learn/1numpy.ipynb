{
 "cells": [
  {
   "cell_type": "code",
   "execution_count": 1,
   "metadata": {},
   "outputs": [
    {
     "name": "stdout",
     "output_type": "stream",
     "text": [
      "Collecting numpyNote: you may need to restart the kernel to use updated packages.\n",
      "\n",
      "  Using cached numpy-2.2.3-cp313-cp313-win_amd64.whl.metadata (60 kB)\n",
      "Using cached numpy-2.2.3-cp313-cp313-win_amd64.whl (12.6 MB)\n",
      "Installing collected packages: numpy\n",
      "Successfully installed numpy-2.2.3\n"
     ]
    },
    {
     "name": "stderr",
     "output_type": "stream",
     "text": [
      "  WARNING: The scripts f2py.exe and numpy-config.exe are installed in 'g:\\Scripts' which is not on PATH.\n",
      "  Consider adding this directory to PATH or, if you prefer to suppress this warning, use --no-warn-script-location.\n",
      "\n",
      "[notice] A new release of pip is available: 24.2 -> 25.0.1\n",
      "[notice] To update, run: python.exe -m pip install --upgrade pip\n"
     ]
    }
   ],
   "source": [
    "pip install numpy"
   ]
  },
  {
   "cell_type": "code",
   "execution_count": 2,
   "metadata": {},
   "outputs": [
    {
     "data": {
      "text/plain": [
       "[1, 2, 3]"
      ]
     },
     "execution_count": 2,
     "metadata": {},
     "output_type": "execute_result"
    }
   ],
   "source": [
    "list =[1,2,3,4,5]\n",
    "list[-5:-2]\n",
    "# list[:]"
   ]
  },
  {
   "cell_type": "code",
   "execution_count": 3,
   "metadata": {},
   "outputs": [
    {
     "data": {
      "text/plain": [
       "[3, 2, 1]"
      ]
     },
     "execution_count": 3,
     "metadata": {},
     "output_type": "execute_result"
    }
   ],
   "source": [
    "list[-3::-1]"
   ]
  },
  {
   "cell_type": "code",
   "execution_count": 4,
   "metadata": {},
   "outputs": [
    {
     "data": {
      "text/plain": [
       "[1, 3, 5]"
      ]
     },
     "execution_count": 4,
     "metadata": {},
     "output_type": "execute_result"
    }
   ],
   "source": [
    "list[::2]"
   ]
  },
  {
   "cell_type": "code",
   "execution_count": 5,
   "metadata": {},
   "outputs": [],
   "source": [
    "import numpy as np"
   ]
  },
  {
   "cell_type": "code",
   "execution_count": 6,
   "metadata": {},
   "outputs": [],
   "source": [
    "arr =np.array([1,2,3,4,5])"
   ]
  },
  {
   "cell_type": "code",
   "execution_count": 7,
   "metadata": {},
   "outputs": [
    {
     "name": "stdout",
     "output_type": "stream",
     "text": [
      "[2 3 4 5]\n"
     ]
    }
   ],
   "source": [
    "print(arr[1:])"
   ]
  },
  {
   "cell_type": "code",
   "execution_count": 8,
   "metadata": {},
   "outputs": [],
   "source": [
    "arr1 =np.array([[1,2,3],[4,5,6]])"
   ]
  },
  {
   "cell_type": "code",
   "execution_count": 9,
   "metadata": {},
   "outputs": [
    {
     "data": {
      "text/plain": [
       "array([[1, 2, 3],\n",
       "       [4, 5, 6]])"
      ]
     },
     "execution_count": 9,
     "metadata": {},
     "output_type": "execute_result"
    }
   ],
   "source": [
    "arr1"
   ]
  },
  {
   "cell_type": "code",
   "execution_count": 10,
   "metadata": {},
   "outputs": [
    {
     "data": {
      "text/plain": [
       "numpy.ndarray"
      ]
     },
     "execution_count": 10,
     "metadata": {},
     "output_type": "execute_result"
    }
   ],
   "source": [
    "type(arr1)"
   ]
  },
  {
   "cell_type": "code",
   "execution_count": 11,
   "metadata": {},
   "outputs": [
    {
     "data": {
      "text/plain": [
       "2"
      ]
     },
     "execution_count": 11,
     "metadata": {},
     "output_type": "execute_result"
    }
   ],
   "source": [
    "arr1.ndim"
   ]
  },
  {
   "cell_type": "code",
   "execution_count": 12,
   "metadata": {},
   "outputs": [
    {
     "data": {
      "text/plain": [
       "np.int64(1)"
      ]
     },
     "execution_count": 12,
     "metadata": {},
     "output_type": "execute_result"
    }
   ],
   "source": [
    "arr1[0,0]"
   ]
  },
  {
   "cell_type": "code",
   "execution_count": 13,
   "metadata": {},
   "outputs": [
    {
     "name": "stdout",
     "output_type": "stream",
     "text": [
      "[2 3]\n"
     ]
    }
   ],
   "source": [
    "print(arr1[0,1:3])"
   ]
  },
  {
   "cell_type": "code",
   "execution_count": 14,
   "metadata": {},
   "outputs": [
    {
     "name": "stdout",
     "output_type": "stream",
     "text": [
      "[[2 3]\n",
      " [5 6]]\n"
     ]
    }
   ],
   "source": [
    "print(arr1[:,1:])"
   ]
  },
  {
   "cell_type": "code",
   "execution_count": 15,
   "metadata": {},
   "outputs": [
    {
     "name": "stdout",
     "output_type": "stream",
     "text": [
      "[2 3 5 6]\n"
     ]
    }
   ],
   "source": [
    "print(arr1[:,1:].flatten())"
   ]
  },
  {
   "cell_type": "code",
   "execution_count": 16,
   "metadata": {},
   "outputs": [
    {
     "name": "stdout",
     "output_type": "stream",
     "text": [
      "[2 3 5 6]\n"
     ]
    }
   ],
   "source": [
    "print(arr1[:,1:].ravel())"
   ]
  },
  {
   "cell_type": "code",
   "execution_count": 17,
   "metadata": {},
   "outputs": [],
   "source": [
    "arr = np.array([[[1,2,3],[4,5,6]],[[5,6,7],[8,9,10]]])"
   ]
  },
  {
   "cell_type": "code",
   "execution_count": 18,
   "metadata": {},
   "outputs": [
    {
     "data": {
      "text/plain": [
       "array([[[ 1,  2,  3],\n",
       "        [ 4,  5,  6]],\n",
       "\n",
       "       [[ 5,  6,  7],\n",
       "        [ 8,  9, 10]]])"
      ]
     },
     "execution_count": 18,
     "metadata": {},
     "output_type": "execute_result"
    }
   ],
   "source": [
    "arr"
   ]
  },
  {
   "cell_type": "code",
   "execution_count": 19,
   "metadata": {},
   "outputs": [
    {
     "data": {
      "text/plain": [
       "3"
      ]
     },
     "execution_count": 19,
     "metadata": {},
     "output_type": "execute_result"
    }
   ],
   "source": [
    "arr.ndim"
   ]
  },
  {
   "cell_type": "code",
   "execution_count": 20,
   "metadata": {},
   "outputs": [
    {
     "name": "stdout",
     "output_type": "stream",
     "text": [
      "(2, 2, 3)\n"
     ]
    }
   ],
   "source": [
    "print(arr.shape)"
   ]
  },
  {
   "cell_type": "code",
   "execution_count": 21,
   "metadata": {},
   "outputs": [
    {
     "name": "stdout",
     "output_type": "stream",
     "text": [
      "[[5 6 7]]\n"
     ]
    }
   ],
   "source": [
    "print(arr[1:2,0])"
   ]
  },
  {
   "cell_type": "code",
   "execution_count": 22,
   "metadata": {},
   "outputs": [
    {
     "data": {
      "text/plain": [
       "array([[[ 0.84147098,  0.90929743,  0.14112001],\n",
       "        [-0.7568025 , -0.95892427, -0.2794155 ]],\n",
       "\n",
       "       [[-0.95892427, -0.2794155 ,  0.6569866 ],\n",
       "        [ 0.98935825,  0.41211849, -0.54402111]]])"
      ]
     },
     "execution_count": 22,
     "metadata": {},
     "output_type": "execute_result"
    }
   ],
   "source": [
    "np.sin(arr)"
   ]
  },
  {
   "cell_type": "code",
   "execution_count": 23,
   "metadata": {},
   "outputs": [
    {
     "data": {
      "text/plain": [
       "np.int64(1)"
      ]
     },
     "execution_count": 23,
     "metadata": {},
     "output_type": "execute_result"
    }
   ],
   "source": [
    "np.min(arr)"
   ]
  },
  {
   "cell_type": "code",
   "execution_count": 24,
   "metadata": {},
   "outputs": [
    {
     "data": {
      "text/plain": [
       "np.int64(10)"
      ]
     },
     "execution_count": 24,
     "metadata": {},
     "output_type": "execute_result"
    }
   ],
   "source": [
    "np.max(arr)"
   ]
  },
  {
   "cell_type": "code",
   "execution_count": 25,
   "metadata": {},
   "outputs": [
    {
     "data": {
      "text/plain": [
       "array([[[1.        , 1.41421356, 1.73205081],\n",
       "        [2.        , 2.23606798, 2.44948974]],\n",
       "\n",
       "       [[2.23606798, 2.44948974, 2.64575131],\n",
       "        [2.82842712, 3.        , 3.16227766]]])"
      ]
     },
     "execution_count": 25,
     "metadata": {},
     "output_type": "execute_result"
    }
   ],
   "source": [
    "np.sqrt(arr)"
   ]
  },
  {
   "cell_type": "code",
   "execution_count": 26,
   "metadata": {},
   "outputs": [],
   "source": [
    "arr =np.array([1,2,3,4,5])"
   ]
  },
  {
   "cell_type": "code",
   "execution_count": 27,
   "metadata": {},
   "outputs": [
    {
     "data": {
      "text/plain": [
       "array([[1],\n",
       "       [2],\n",
       "       [3],\n",
       "       [4],\n",
       "       [5]])"
      ]
     },
     "execution_count": 27,
     "metadata": {},
     "output_type": "execute_result"
    }
   ],
   "source": [
    "arr.reshape(5,1)"
   ]
  },
  {
   "cell_type": "code",
   "execution_count": 28,
   "metadata": {},
   "outputs": [],
   "source": [
    "arr1=np.array([1,2,3])\n",
    "arr2=np.array([4,5,6])"
   ]
  },
  {
   "cell_type": "code",
   "execution_count": 29,
   "metadata": {},
   "outputs": [],
   "source": [
    "arr=np.random.randint(8)"
   ]
  },
  {
   "cell_type": "code",
   "execution_count": 30,
   "metadata": {},
   "outputs": [
    {
     "data": {
      "text/plain": [
       "1"
      ]
     },
     "execution_count": 30,
     "metadata": {},
     "output_type": "execute_result"
    }
   ],
   "source": [
    "arr"
   ]
  },
  {
   "cell_type": "code",
   "execution_count": 31,
   "metadata": {},
   "outputs": [],
   "source": [
    "arr3=np.random.rand(3,3)"
   ]
  },
  {
   "cell_type": "code",
   "execution_count": 32,
   "metadata": {},
   "outputs": [
    {
     "data": {
      "text/plain": [
       "array([[0.08261312, 0.75402422, 0.87189773],\n",
       "       [0.4565864 , 0.13175203, 0.20766585],\n",
       "       [0.36860717, 0.16447329, 0.81669148]])"
      ]
     },
     "execution_count": 32,
     "metadata": {},
     "output_type": "execute_result"
    }
   ],
   "source": [
    "arr3"
   ]
  },
  {
   "cell_type": "code",
   "execution_count": 33,
   "metadata": {},
   "outputs": [],
   "source": [
    "ar=np.random.randint(1,100,5)"
   ]
  },
  {
   "cell_type": "code",
   "execution_count": 34,
   "metadata": {},
   "outputs": [
    {
     "data": {
      "text/plain": [
       "array([43, 26, 75, 35, 98], dtype=int32)"
      ]
     },
     "execution_count": 34,
     "metadata": {},
     "output_type": "execute_result"
    }
   ],
   "source": [
    "ar"
   ]
  },
  {
   "cell_type": "code",
   "execution_count": 35,
   "metadata": {},
   "outputs": [],
   "source": [
    "ar=np.random.randint(1,50,(3,3))"
   ]
  },
  {
   "cell_type": "code",
   "execution_count": 36,
   "metadata": {},
   "outputs": [
    {
     "data": {
      "text/plain": [
       "array([[42, 20, 38],\n",
       "       [36, 36, 36],\n",
       "       [36, 17, 42]], dtype=int32)"
      ]
     },
     "execution_count": 36,
     "metadata": {},
     "output_type": "execute_result"
    }
   ],
   "source": [
    "ar"
   ]
  },
  {
   "cell_type": "code",
   "execution_count": 37,
   "metadata": {},
   "outputs": [
    {
     "data": {
      "text/plain": [
       "array([ 1,  2,  3,  4,  5,  6,  7,  8,  9, 10])"
      ]
     },
     "execution_count": 37,
     "metadata": {},
     "output_type": "execute_result"
    }
   ],
   "source": [
    "# 1, create a 1D array of number from 1 to 10\n",
    "ar=np.array([1,2,3,4,5,6,7,8,9,10])\n",
    "ar"
   ]
  },
  {
   "cell_type": "code",
   "execution_count": 38,
   "metadata": {},
   "outputs": [
    {
     "data": {
      "text/plain": [
       "array([68, 32, 20], dtype=int32)"
      ]
     },
     "execution_count": 38,
     "metadata": {},
     "output_type": "execute_result"
    }
   ],
   "source": [
    "ar=np.random.randint(1,100,(3))\n",
    "ar"
   ]
  },
  {
   "cell_type": "code",
   "execution_count": 39,
   "metadata": {},
   "outputs": [],
   "source": [
    "# 1. Create a 10 array of numbers from 1 to 10.\n",
    "\n",
    "#2.Generate a 4x4 matrix of random integers between 1 and 10\n",
    "\n",
    "#3. Extract all even numbers from the array:\n",
    "\n",
    "#arr = np.array([10, 15, 20, 25, 30, 35, 40])\n",
    "\n",
    "#4. Replace all odd numbers in the array with -1.\n",
    "\n",
    "#5. Reshape a 1D NumPy array into a 3x3 matrix:\n",
    "\n",
    "#arr = np.array([1, 2, 3, 4, 5, 6, 7, 8, 9])\n",
    "\n",
    "#6. Find the max and min values from this array:\n",
    "\n",
    "\n",
    "# np.array([12, 56, 98, 3, 45, 77, 29])"
   ]
  },
  {
   "cell_type": "code",
   "execution_count": 40,
   "metadata": {},
   "outputs": [
    {
     "data": {
      "text/plain": [
       "array([[78, 75, 25,  9],\n",
       "       [40, 64, 17, 80],\n",
       "       [70,  9, 30, 68],\n",
       "       [94, 35, 52, 14]], dtype=int32)"
      ]
     },
     "execution_count": 40,
     "metadata": {},
     "output_type": "execute_result"
    }
   ],
   "source": [
    "#2.Generate a 4x4 matrix of random integers between 1 and 10\n",
    "ar=np.random.randint(1,100,(4,4))\n",
    "ar"
   ]
  },
  {
   "cell_type": "code",
   "execution_count": 41,
   "metadata": {},
   "outputs": [
    {
     "name": "stdout",
     "output_type": "stream",
     "text": [
      "[ 2  4  6  8 10]\n"
     ]
    }
   ],
   "source": [
    "#3. Extract all even numbers from the array:\n",
    "\n",
    "arr = np.array([1, 2, 3, 4, 5, 6, 7, 8, 9, 10])\n",
    "\n",
    "even_numbers = arr[arr % 2 == 0]\n",
    "\n",
    "print(even_numbers)  \n"
   ]
  },
  {
   "cell_type": "code",
   "execution_count": 42,
   "metadata": {},
   "outputs": [
    {
     "name": "stdout",
     "output_type": "stream",
     "text": [
      "[-1  2 -1  4 -1  6 -1  8 -1 10]\n"
     ]
    }
   ],
   "source": [
    "#4. Replace all odd numbers in the array with -1.\n",
    "arr = np.array([1, 2, 3, 4, 5, 6, 7, 8, 9, 10])\n",
    "arr[arr % 2 != 0] = -1\n",
    "\n",
    "print(arr)  "
   ]
  },
  {
   "cell_type": "code",
   "execution_count": 43,
   "metadata": {},
   "outputs": [
    {
     "data": {
      "text/plain": [
       "array([[1, 2, 3],\n",
       "       [4, 5, 6],\n",
       "       [7, 8, 9]])"
      ]
     },
     "execution_count": 43,
     "metadata": {},
     "output_type": "execute_result"
    }
   ],
   "source": [
    "#5. Reshape a 1D NumPy array into a 3x3 matrix:\n",
    "arr = np.array([1, 2, 3, 4, 5, 6, 7, 8, 9])\n",
    "arr.reshape(3,3)"
   ]
  },
  {
   "cell_type": "code",
   "execution_count": 44,
   "metadata": {},
   "outputs": [
    {
     "data": {
      "text/plain": [
       "np.int64(98)"
      ]
     },
     "execution_count": 44,
     "metadata": {},
     "output_type": "execute_result"
    }
   ],
   "source": [
    "#6. Find the max and min values from this array:np.array([12, 56, 98, 3, 45, 77, 29])\n",
    "arr=np.array([12, 56, 98, 3, 45, 77, 29])\n",
    "arr.max()"
   ]
  },
  {
   "cell_type": "code",
   "execution_count": 45,
   "metadata": {},
   "outputs": [
    {
     "data": {
      "text/plain": [
       "array([1, 1, 1, 1, 1, 1, 1, 1, 1, 1])"
      ]
     },
     "execution_count": 45,
     "metadata": {},
     "output_type": "execute_result"
    }
   ],
   "source": [
    "arr =np.ones(10,dtype=int)\n",
    "arr"
   ]
  },
  {
   "cell_type": "code",
   "execution_count": 46,
   "metadata": {},
   "outputs": [
    {
     "data": {
      "text/plain": [
       "array([[2, 0, 0, 0, 0],\n",
       "       [0, 3, 0, 0, 0],\n",
       "       [0, 0, 4, 0, 0],\n",
       "       [0, 0, 0, 5, 0],\n",
       "       [0, 0, 0, 0, 6]])"
      ]
     },
     "execution_count": 46,
     "metadata": {},
     "output_type": "execute_result"
    }
   ],
   "source": [
    "arr=np.diag([2,3,4,5,6])\n",
    "arr"
   ]
  },
  {
   "cell_type": "code",
   "execution_count": 47,
   "metadata": {},
   "outputs": [
    {
     "data": {
      "text/plain": [
       "array([ 1.        ,  3.11111111,  5.22222222,  7.33333333,  9.44444444,\n",
       "       11.55555556, 13.66666667, 15.77777778, 17.88888889, 20.        ])"
      ]
     },
     "execution_count": 47,
     "metadata": {},
     "output_type": "execute_result"
    }
   ],
   "source": [
    "arr = np.linspace(1,20,10)\n",
    "arr"
   ]
  },
  {
   "cell_type": "code",
   "execution_count": 48,
   "metadata": {},
   "outputs": [
    {
     "name": "stdout",
     "output_type": "stream",
     "text": [
      "[[1 0 0 0 0]\n",
      " [0 1 0 0 0]\n",
      " [0 0 1 0 0]\n",
      " [0 0 0 1 0]\n",
      " [0 0 0 0 1]]\n"
     ]
    }
   ],
   "source": [
    "# 7,create a 5x5 identities matrix\n",
    "arr=np.identity(5, dtype=int)\n",
    "print(arr)"
   ]
  },
  {
   "cell_type": "code",
   "execution_count": 49,
   "metadata": {},
   "outputs": [
    {
     "data": {
      "text/plain": [
       "array([1, 2, 3, 4, 5, 6, 7, 8, 9])"
      ]
     },
     "execution_count": 49,
     "metadata": {},
     "output_type": "execute_result"
    }
   ],
   "source": [
    "#8 sort the array [9,1,7,3,6,2,8,4,5]\n",
    "arr =np.array([9,1,7,3,6,2,8,4,5])\n",
    "np.sort(arr)"
   ]
  },
  {
   "cell_type": "code",
   "execution_count": 50,
   "metadata": {},
   "outputs": [
    {
     "name": "stdout",
     "output_type": "stream",
     "text": [
      "15\n"
     ]
    }
   ],
   "source": [
    "# 9.Find the sum of all elements in the array [1, 2, 3, 4, 5].\n",
    "arr=np.array([1, 2, 3, 4, 5])\n",
    "print(np.sum(arr))"
   ]
  },
  {
   "cell_type": "code",
   "execution_count": 51,
   "metadata": {},
   "outputs": [
    {
     "data": {
      "text/plain": [
       "array([[0., 0., 0.],\n",
       "       [0., 0., 0.],\n",
       "       [0., 0., 0.]])"
      ]
     },
     "execution_count": 51,
     "metadata": {},
     "output_type": "execute_result"
    }
   ],
   "source": [
    "# 10. Create a 3×3 NumPy array filled with zeros. **bold text**\n",
    "arr=np.zeros((3,3))\n",
    "arr"
   ]
  },
  {
   "cell_type": "code",
   "execution_count": 52,
   "metadata": {},
   "outputs": [],
   "source": [
    "# Find the most frequently occurring element in an array.\n",
    "# Given an array, replace all values greater than 10 with 10:\n",
    "# arr = np.array([5, 15, 25, 10, 8, 3, 12])\n",
    "# Find the sum of each row in a 384 matrix:\n",
    "# arr = np.array ( [[1, 2, 3, 4], [5, 6, 7, 8], [9, 10, 11, 12] )\n",
    "# Find the index of the maximum element in the array.\n",
    "# arr = np.array([10, 20, 5, 30, 25])\n",
    "# Find the mean, median, and standard deviation of:\n",
    "# arr - np.array ([1, 2, 3, 4, 5, 6, 7, 8, 9])\n",
    "# Swap column 0 and column 2 in the given 3%3 matrix.\n",
    "### arr = np.array([[1, 2, 3], [4, 5, 6], [7, 8, 9]]) *bold text*\n",
    "# Find unique values and their counts in:\n",
    "# arr = np.array([1, 2, 2, 3, 4, 4, 4, 510])"
   ]
  },
  {
   "cell_type": "code",
   "execution_count": 53,
   "metadata": {},
   "outputs": [
    {
     "data": {
      "text/plain": [
       "array([[1, 2, 3, 4, 5],\n",
       "       [1, 2, 3, 4, 5],\n",
       "       [1, 2, 3, 4, 5],\n",
       "       [1, 2, 3, 4, 5],\n",
       "       [1, 2, 3, 4, 5]])"
      ]
     },
     "execution_count": 53,
     "metadata": {},
     "output_type": "execute_result"
    }
   ],
   "source": [
    "# 11.Generate a 5x5 matrix where each row contains values from 1 to 5.\n",
    "arr = np.tile(np.arange(1, 6), (5, 1))\n",
    "arr"
   ]
  },
  {
   "cell_type": "code",
   "execution_count": 54,
   "metadata": {},
   "outputs": [
    {
     "name": "stdout",
     "output_type": "stream",
     "text": [
      "4\n"
     ]
    }
   ],
   "source": [
    "# 12.Find the most frequently occurring element in an array.\n",
    "arr = np.array([1, 2, 3, 4, 2, 2, 3, 3, 3, 3, 4, 4, 4, 4, 4])\n",
    "most_frequent = np.bincount(arr).argmax()\n",
    "print(most_frequent)  \n"
   ]
  },
  {
   "cell_type": "code",
   "execution_count": null,
   "metadata": {},
   "outputs": [],
   "source": []
  },
  {
   "cell_type": "code",
   "execution_count": 55,
   "metadata": {},
   "outputs": [
    {
     "data": {
      "text/plain": [
       "array([[3, 2, 1],\n",
       "       [6, 5, 4],\n",
       "       [9, 8, 7]])"
      ]
     },
     "execution_count": 55,
     "metadata": {},
     "output_type": "execute_result"
    }
   ],
   "source": [
    "# [:,0,2][:2,0]\n",
    "# swap column 0 and column 2 in the given x matrix\n",
    "arr= np.array([[1,2,3],[4,5,6],[7,8,9]])\n",
    "arr[:,[0,2]] = arr[:,[2,0]]\n",
    "arr"
   ]
  },
  {
   "cell_type": "code",
   "execution_count": 56,
   "metadata": {},
   "outputs": [
    {
     "data": {
      "text/plain": [
       "array([1, 2, 3, 4, 5, 6, 7, 8, 9])"
      ]
     },
     "execution_count": 56,
     "metadata": {},
     "output_type": "execute_result"
    }
   ],
   "source": [
    "np.unique(arr)"
   ]
  },
  {
   "cell_type": "code",
   "execution_count": null,
   "metadata": {},
   "outputs": [],
   "source": []
  },
  {
   "cell_type": "code",
   "execution_count": 57,
   "metadata": {},
   "outputs": [],
   "source": [
    "# Generate a 5x5 matrix where each row contains values from 1 to 5.\n"
   ]
  },
  {
   "cell_type": "markdown",
   "metadata": {},
   "source": [
    "# array creation 3 type \n",
    "## arr= np.array([[1,2,3],[4,5,6],[7,8,9]])  \n",
    "## ar=np.random.randint(1,100,(4,4))\n",
    "## np.arange\n"
   ]
  },
  {
   "cell_type": "code",
   "execution_count": 58,
   "metadata": {},
   "outputs": [
    {
     "name": "stdout",
     "output_type": "stream",
     "text": [
      "[[1 2]\n",
      " [4 5]]\n"
     ]
    }
   ],
   "source": [
    "import numpy as np\n",
    "arr= np.array([[1,2],[4,5]])  \n",
    "# print(arr[0,[0,1]])\n",
    "# print(arr+10)\n",
    "scalar =5\n",
    "print(arr)\n"
   ]
  },
  {
   "cell_type": "code",
   "execution_count": 59,
   "metadata": {},
   "outputs": [
    {
     "name": "stdout",
     "output_type": "stream",
     "text": [
      "[[ 2  4]\n",
      " [ 8 10]]\n"
     ]
    }
   ],
   "source": [
    "# scaler\n",
    "# vector\n",
    "arr= np.array([[1,2],[4,5]])  \n",
    "arr1= np.array([[1,2],[4,5]]) \n",
    "result = arr+arr1\n",
    "print(result)"
   ]
  },
  {
   "cell_type": "code",
   "execution_count": 60,
   "metadata": {},
   "outputs": [
    {
     "name": "stdout",
     "output_type": "stream",
     "text": [
      "[[2 4 7]\n",
      " [5 7 9]]\n"
     ]
    }
   ],
   "source": [
    "arr= np.array([[1,2,4],[4,5,6]])  \n",
    "arr1= np.array([1,2,3]) \n",
    "# arr11.reshape(3,1)\n",
    "result = arr+arr1\n",
    "print(result)\n"
   ]
  },
  {
   "cell_type": "code",
   "execution_count": 61,
   "metadata": {},
   "outputs": [
    {
     "data": {
      "text/plain": [
       "array([[11, 22],\n",
       "       [13, 24]])"
      ]
     },
     "execution_count": 61,
     "metadata": {},
     "output_type": "execute_result"
    }
   ],
   "source": [
    "# tilling method\n",
    "a=np.array([[1,2],[3,4]]) \n",
    "b=np.array([10,20,30]) \n",
    "b_tilled=np.tile(b[:2],[2,1])\n",
    "# print(b_tilled)\n",
    "a+b_tilled"
   ]
  },
  {
   "cell_type": "code",
   "execution_count": 62,
   "metadata": {},
   "outputs": [],
   "source": [
    "#1. Add a 1D array [10, 20, 30] to each row of a 2D array. #2d([[1, 2, 3], [4, 5, 6]])\n",
    "\n",
    "#2. Multiply a column vector with a row vector using broadcasting:\n",
    "# X= np.array([[1], [2], [3]) # Shape (3,1)\n",
    "# Ynp.array([10, 20, 30])  #Shape (1,3)\n",
    "\n",
    "#3. Subtract a row vector from each row of a 2D matrix:\n",
    "# A = np.array([[5, 10, 15], [20, 25, 30]) # Shape (2,3)\n",
    "# B np.array([1, 2, 3])    # Shape (3,)\n",
    "\n",
    "#4. Compute the mean of a 2D array and subtract it from each row.\n",
    "# A = np.array([[10, 20, 30], [40, 58, 60], [70, 80, 90])\n",
    "\n",
    "#5. Fix the broadcasting error by reshaping the array.\n",
    "# Anp.array([[1, 2], [3, 4])\n",
    "# Bnp.array([10, 20])\n",
    "\n",
    "#6. Multiply each row of a matrix by a different scalar.\n",
    "# Anp.array([[1, 2, 3], [4, 5, 6], [7, 8, 9])\n",
    "# scalars np.array([1, 2, 3])\n",
    "\n",
    "#7. Normalize a 2D array (subtract mean and divide by std deviation).\n",
    "# A-np.array([[1, 2, 3], [4, 5, 6], [7, 8, 9])"
   ]
  },
  {
   "cell_type": "code",
   "execution_count": 63,
   "metadata": {},
   "outputs": [
    {
     "name": "stdout",
     "output_type": "stream",
     "text": [
      "[[10 20 30]\n",
      " [20 40 60]\n",
      " [30 60 90]]\n"
     ]
    }
   ],
   "source": [
    "#2. Multiply a column vector with a row vector using broadcasting:\n",
    "# X= np.array([[1], [2], [3]) # Shape (3,1)\n",
    "# Ynp.array([10, 20, 30])  #Shape (1,3)\n",
    "X= np.array([[1], [2], [3]])\n",
    "Y=np.array([10, 20, 30])\n",
    "result=X*Y\n",
    "print(result)"
   ]
  },
  {
   "cell_type": "code",
   "execution_count": 64,
   "metadata": {},
   "outputs": [
    {
     "name": "stdout",
     "output_type": "stream",
     "text": [
      "[[ -9 -19 -29]\n",
      " [ -8 -18 -28]\n",
      " [ -7 -17 -27]]\n"
     ]
    }
   ],
   "source": [
    "#3. Subtract a row vector from each row of a 2D matrix:\n",
    "# A = np.array([[5, 10, 15], [20, 25, 30]) # Shape (2,3)\n",
    "# B np.array([1, 2, 3])    # Shape (3,)\n",
    "A = np.array([[5, 10, 15], [20, 25, 30]])\n",
    "B = np.array([1, 2, 3])\n",
    "result=X-Y\n",
    "print(result)"
   ]
  },
  {
   "cell_type": "code",
   "execution_count": 65,
   "metadata": {},
   "outputs": [
    {
     "name": "stdout",
     "output_type": "stream",
     "text": [
      "[[-40.88888889 -30.88888889 -20.88888889]\n",
      " [-10.88888889   7.11111111   9.11111111]\n",
      " [ 19.11111111  29.11111111  39.11111111]]\n"
     ]
    }
   ],
   "source": [
    "#4. Compute the mean of a 2D array and subtract it from each row.\n",
    "# A = np.array([[10, 20, 30], [40, 58, 60], [70, 80, 90])\n",
    "\n",
    "A = np.array([[10, 20, 30], [40, 58, 60], [70, 80, 90]])\n",
    "mean=A.mean()\n",
    "result=A-mean\n",
    "print(result)"
   ]
  },
  {
   "cell_type": "code",
   "execution_count": 66,
   "metadata": {},
   "outputs": [],
   "source": [
    "#5. Fix the broadcasting error by reshaping the array.\n",
    "# Anp.array([[1, 2], [3, 4])\n",
    "# Bnp.array([10, 20])"
   ]
  },
  {
   "cell_type": "code",
   "execution_count": 67,
   "metadata": {},
   "outputs": [
    {
     "name": "stdout",
     "output_type": "stream",
     "text": [
      "[[ 5 10 15]\n",
      " [20 25 30]\n",
      " [35 40 45]]\n"
     ]
    }
   ],
   "source": [
    "#6. Multiply each row of a matrix by a different scalar.\n",
    "A=np.array([[1, 2, 3], [4, 5, 6], [7, 8, 9]])\n",
    "scalars =np.array([1, 2, 3])\n",
    "result=A*scalar\n",
    "print(result)\n"
   ]
  },
  {
   "cell_type": "code",
   "execution_count": 68,
   "metadata": {},
   "outputs": [
    {
     "name": "stdout",
     "output_type": "stream",
     "text": [
      "[[-19.32188358 -18.93458525 -18.54728691]\n",
      " [-18.15998858 -17.77269024 -17.38539191]\n",
      " [-16.99809358 -16.61079524 -16.22349691]]\n"
     ]
    }
   ],
   "source": [
    "#7. Normalize a 2D array (subtract mean and divide by std deviation).\n",
    "A=np.array([[1, 2, 3], [4, 5, 6], [7, 8, 9]])\n",
    "M=A.mean()\n",
    "S=A.std()\n",
    "mean_sub_result=A-mean\n",
    "std_div=mean_sub_result/S\n",
    "print(std_div)"
   ]
  },
  {
   "cell_type": "code",
   "execution_count": 69,
   "metadata": {},
   "outputs": [
    {
     "name": "stdout",
     "output_type": "stream",
     "text": [
      "2 89\n"
     ]
    }
   ],
   "source": [
    "'''\n",
    "Q:1 How to Find the Index of Maximum and Minimum Values in a NumPy Array? arr = np.array([10, 25, 2, 67, 89, 45])\n",
    "\n",
    "How to Replace All Values Greater than a Threshold with a Specific Value? arr = np.array([3, 10, 18, 21, 5, 9])\n",
    "# Replace all values greater than 10 with 99 \n",
    "3. How to Find Unique Elements and Their Counts in an Array? arr = np.array([1, 2, 2, 3, 4, 4, 4, 5])\n",
    "4. How to Perform Row-Wise and Column-Wise Operations in NumPy? matrix = np.array([[1, 2, 3], [4, 5, 6], [7, 8, 9]])\n",
    "matrix = np.array([[1, 2, 3], [4, 5, 6], [7, 8, 9]])\n",
    "5. How to Generate a Random Matrix and Normalize It?\n",
    "    random_matrix = np.random.rand(3, 3)\n",
    "    use the formula: (x - mean(row)) / std(row)\n",
    "    normalized_matrix = (random_matrix - np.min(random_matrix)) / (np.max(random_matrix) - np.min(random_matrix))\n",
    "6. How to Find the Euclidean Distance Between Two Vectors?\n",
    "v1 = np.array([3, 4, 5])\n",
    "v2 = np.array([1, 1, 1]) distance = np.sqrt(np.sum((v1 - v2) ** 2))\n",
    "or\n",
    "distance = np.linalg.norm(v1 - v2)\n",
    "7. How to Shuffle Rows of a NumPy Array? arr = np.array([[1, 2, 3], [4, 5, 6], [7, 8, 9]])\n",
    "How to Find the Dot Product and Cross Product of Two Vectors?\n",
    "v1 = np.array([1, 2, 3])\n",
    "v2 = np.array([4, 5, 6])\n",
    "umpy as np\n",
    "angles = np.array([0, np.pi/2, np.pi, 3*np.pi/2])\n",
    "'''\n",
    "# Q:1 How to Find the Index of Maximum and Minimum Values in a NumPy Array? arr = np.array([10, 25, 2, 67, 89, 45])\n",
    "arr = np.array([10, 25, 2, 67, 89, 45])\n",
    "min=np.amin(arr)\n",
    "max=np.amax(arr)\n",
    "print(min,max)"
   ]
  },
  {
   "cell_type": "code",
   "execution_count": 70,
   "metadata": {},
   "outputs": [
    {
     "name": "stdout",
     "output_type": "stream",
     "text": [
      "[ 3 10 99 99  5  9]\n"
     ]
    }
   ],
   "source": [
    "#2. How to Replace All Values Greater than a Threshold with a Specific Value? arr = np.array([3, 10, 18, 21, 5, 9])\n",
    "# Replace all values greater than 10 with 99 \n",
    "arr = np.array([3, 10, 18, 21, 5, 9])\n",
    "arr[arr>10]=99\n",
    "print(arr)"
   ]
  },
  {
   "cell_type": "code",
   "execution_count": 71,
   "metadata": {},
   "outputs": [
    {
     "data": {
      "text/plain": [
       "array([1, 2, 3, 4, 5])"
      ]
     },
     "execution_count": 71,
     "metadata": {},
     "output_type": "execute_result"
    }
   ],
   "source": [
    "# 3. How to Find Unique Elements and Their Counts in an Array? arr = np.array([1, 2, 2, 3, 4, 4, 4, 5])\n",
    "arr = np.array([1, 2, 2, 3, 4, 4, 4, 5])\n",
    "np.unique(arr)"
   ]
  },
  {
   "cell_type": "code",
   "execution_count": 72,
   "metadata": {},
   "outputs": [
    {
     "name": "stdout",
     "output_type": "stream",
     "text": [
      "[ 6 15 24]\n",
      "[2. 5. 8.]\n"
     ]
    }
   ],
   "source": [
    "# 4. How to Perform Row-Wise and Column-Wise Operations in NumPy? matrix = np.array([[1, 2, 3], [4, 5, 6], [7, 8, 9]])\n",
    "# matrix = np.array([[1, 2, 3], [4, 5, 6], [7, 8, 9]])\n",
    "matrix = np.array([[1, 2, 3], [4, 5, 6], [7, 8, 9]])\n",
    "matrix1= np.array([[1, 2, 3], [4, 5, 6], [7, 8, 9]])\n",
    "row_sum = np.sum(matrix, axis=1)\n",
    "print(row_sum)  \n",
    "row_mean = np.mean(matrix, axis=1)\n",
    "print(row_mean)  \n",
    "\n"
   ]
  },
  {
   "cell_type": "code",
   "execution_count": 73,
   "metadata": {},
   "outputs": [],
   "source": [
    "# 5. How to Generate a Random Matrix and Normalize It?\n",
    "#     random_matrix = np.random.rand(3, 3)\n",
    "#     use the formula: (x - mean(row)) / std(row)\n",
    "#     normalized_matrix = (random_matrix - np.min(random_matrix)) / (np.max(random_matrix) - np.min(random_matrix))\n"
   ]
  },
  {
   "cell_type": "code",
   "execution_count": null,
   "metadata": {},
   "outputs": [],
   "source": []
  }
 ],
 "metadata": {
  "kernelspec": {
   "display_name": "Python 3",
   "language": "python",
   "name": "python3"
  },
  "language_info": {
   "codemirror_mode": {
    "name": "ipython",
    "version": 3
   },
   "file_extension": ".py",
   "mimetype": "text/x-python",
   "name": "python",
   "nbconvert_exporter": "python",
   "pygments_lexer": "ipython3",
   "version": "3.13.0"
  }
 },
 "nbformat": 4,
 "nbformat_minor": 2
}
