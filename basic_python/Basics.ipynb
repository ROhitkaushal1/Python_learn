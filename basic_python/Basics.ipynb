{
 "cells": [
  {
   "cell_type": "code",
   "execution_count": null,
   "metadata": {},
   "outputs": [
    {
     "name": "stdout",
     "output_type": "stream",
     "text": [
      "['hello world']\n"
     ]
    }
   ],
   "source": [
    "'''\n",
    "1.String is a datatype that stores a sequence of charachter\n",
    "2.length of the string : len(str)\n",
    "3.String indexing/index :it indicates the range of the slice using a staring index and ending index\n",
    "4.(imp)String is immutable: Strings are not mutable means we cannot use indexing to change individual elements if a string\n",
    "'''\n",
    "str_1 = \"rohan\"\n",
    "last_letter = str_1[1:]\n",
    "# str_1[0] = \"s\" //not allowed because strings are immutable \n",
    "new_name  = \"s\"+last_letter\n",
    "print(new_name)\n"
   ]
  },
  {
   "cell_type": "code",
   "execution_count": 1,
   "metadata": {},
   "outputs": [
    {
     "name": "stdout",
     "output_type": "stream",
     "text": [
      "098\n"
     ]
    }
   ],
   "source": [
    "'''\n",
    "input() this statement is used to accpet values from the user\n",
    "'''\n",
    "x = input(\"input the number\")\n",
    "print(x)\n"
   ]
  },
  {
   "cell_type": "code",
   "execution_count": 3,
   "metadata": {},
   "outputs": [
    {
     "name": "stdout",
     "output_type": "stream",
     "text": [
      "['hello ', 'world']\n"
     ]
    }
   ],
   "source": [
    "'''\n",
    "split() this is a method which split the string into substring if it finds instances of the seperator \n",
    "'''\n",
    "a = \"hello ,world\"\n",
    "print(a.split(\",\"))\n"
   ]
  },
  {
   "cell_type": "code",
   "execution_count": null,
   "metadata": {},
   "outputs": [
    {
     "name": "stdout",
     "output_type": "stream",
     "text": [
      "[67, 65, 43, 77, 87]\n",
      "5\n",
      "['rohit', 65, 43, 77, 87]\n",
      "[65, 43, 77]\n"
     ]
    }
   ],
   "source": [
    "'''\n",
    "list are used to store multiple items in a single variable\n",
    "we can have all datatypes in list\n",
    "specified in []\n",
    "list items are ordered , changable and allow duplicate values\n",
    "'''\n",
    "marks = [67,65,43,77,87]\n",
    "print(marks)\n",
    "marks[0] = \"rohit\"\n",
    "print(len(marks))\n",
    "print(marks)\n",
    "new_marks = marks[1:4]\n",
    "print(new_marks)\n",
    "\n"
   ]
  },
  {
   "cell_type": "code",
   "execution_count": null,
   "metadata": {},
   "outputs": [
    {
     "name": "stdout",
     "output_type": "stream",
     "text": [
      "[5, 1, 2, 3, 4]\n",
      "[1, 2, 3, 4, 5]\n",
      "[5, 4, 3, 2, 1]\n",
      "[1, 2, 34, 3, 4, 5]\n",
      "[1, 34, 3, 4, 5]\n",
      "[1, 34, 3, 4]\n",
      "[1, 34, 3]\n"
     ]
    }
   ],
   "source": [
    "'''list methods'''\n",
    "list = [5,1,2,3]\n",
    "list.append(4)\n",
    "print(list)\n",
    "list.sort()\n",
    "print(list)\n",
    "list.sort(reverse = True)\n",
    "print(list)\n",
    "list.reverse()\n",
    "list.insert(2,34)\n",
    "print(list)\n",
    "list.remove(2)\n",
    "print(list)\n",
    "list.pop()\n",
    "print(list)\n",
    "list.pop() #removes the last\n",
    "print(list)\n",
    "\n"
   ]
  },
  {
   "cell_type": "code",
   "execution_count": null,
   "metadata": {},
   "outputs": [
    {
     "data": {
      "text/plain": [
       "3"
      ]
     },
     "execution_count": 22,
     "metadata": {},
     "output_type": "execute_result"
    }
   ],
   "source": [
    "'''\n",
    "tuples: built in datatype lets us create immutable sequence of values \n",
    "ordered, unchangeable, and allow duplicate values\n",
    "takes less  memory than list\n",
    "can be used in dictionary\n",
    "'''\n",
    "tup = (1,2,2,2,3,4,5)\n",
    "# tup[0] = 43 not possible\n",
    "tup.index(2)#return index of the first occurance\n",
    "tup.count(2)#return the count of the total occurance of element\n",
    "tuple()"
   ]
  },
  {
   "cell_type": "code",
   "execution_count": 2,
   "metadata": {},
   "outputs": [
    {
     "name": "stdout",
     "output_type": "stream",
     "text": [
      "{'std_1': 'rohit', 'roll no.': 57, 'class': 'machine learning', 'marks': [12, 43, 32, 33, 90], (1, 2): ['math', 'science']}\n"
     ]
    }
   ],
   "source": [
    "'''\n",
    "DICTIONARIES\n",
    "unordered form of data in which values are stored in keys\n",
    "always start with curly brackates \n",
    "dont allow duplicate keys \n",
    "but value cannot be duplicate\n",
    "\n",
    "'''\n",
    "#Creating a dictionary\n",
    "\n",
    "my_dict  = {\n",
    "    \"std_1\" : \"rohit\",\n",
    "    \"roll no.\" : 57,\n",
    "    \"class\" : \"machine learning\",\n",
    "    \"marks\" : [12,43,32,33,90],\n",
    "    (1,2) : [\"math\" , \"science\"]\n",
    "}\n",
    "print(my_dict)"
   ]
  },
  {
   "cell_type": "code",
   "execution_count": 4,
   "metadata": {},
   "outputs": [
    {
     "name": "stdout",
     "output_type": "stream",
     "text": [
      "32\n"
     ]
    }
   ],
   "source": [
    "''' how to access'''\n",
    "\n",
    "my_dict[1]  = 32\n",
    "print(my_dict[\"roll no.\"])"
   ]
  },
  {
   "cell_type": "code",
   "execution_count": 10,
   "metadata": {},
   "outputs": [
    {
     "name": "stdout",
     "output_type": "stream",
     "text": [
      "{'brand': 'Ford', 'year': 1964, 'type': 'muscle car'}\n",
      "{'brand': 'Ford', 'year': 1964}\n",
      "{'year': 1964}\n",
      "{}\n"
     ]
    }
   ],
   "source": [
    "\n",
    "thisdict = {\n",
    "  \"brand\": \"Ford\",\n",
    "  \"model\": \"Mustang\",\n",
    "  \"year\": 1964,\n",
    "  \"type\": \"muscle car\"\n",
    "}\n",
    "thisdict.pop(\"model\")\n",
    "print(thisdict)\n",
    "thisdict.popitem()\n",
    "print(thisdict)\n",
    "del thisdict[\"brand\"]\n",
    "print(thisdict)\n",
    "thisdict.clear()\n",
    "print(thisdict)"
   ]
  },
  {
   "cell_type": "code",
   "execution_count": 1,
   "metadata": {},
   "outputs": [],
   "source": [
    "'''nested dictionary'''\n",
    "stud_data = {\n",
    "    \"std1\" : {\n",
    "        \"name\": \"rohit\",\n",
    "        \"roll no.\" : 57,\n",
    "        \"class\" : \"machine learning\",\n",
    "        \"marks\" : [12,43,32,33,90],\n",
    "        (1,2) : [\"math\" , \"science\"]\n",
    "    }\n",
    "}"
   ]
  },
  {
   "cell_type": "code",
   "execution_count": null,
   "metadata": {},
   "outputs": [
    {
     "name": "stdout",
     "output_type": "stream",
     "text": [
      "{'true', 3}\n"
     ]
    }
   ],
   "source": [
    "'''\n",
    "#SET : {} stores in curlu brackcates\n",
    "unordered, unchngable\n",
    "dont allow duplice\n",
    "we can create a empty set \n",
    "we can iteraate through whole set to see a value in set\n",
    "'''\n",
    "\n",
    "a = {1,2,\"rohit\", 1.1,(3,\"true\")}#cannot store list or dictionary\n",
    "\n",
    "s = set()\n",
    "s.add(3)\n",
    "s.add(\"rohit\")\n",
    "s.add(\"true\")\n",
    "s.add(\"false\")\n",
    "s.remove(\"false\")\n",
    "print(s)\n"
   ]
  },
  {
   "cell_type": "code",
   "execution_count": null,
   "metadata": {},
   "outputs": [
    {
     "name": "stdout",
     "output_type": "stream",
     "text": [
      "{1, 2, 3, 4, 5, 6}\n"
     ]
    }
   ],
   "source": [
    "s = {1,2,3,4,4,5,5}\n",
    "v = {2,2,3,3,4,5,5,6}\n",
    "c = s.union(v)# we can also add tuple to a set by using union\n",
    "print(c)\n",
    "# for x in s:\n",
    "#     print(\"value is there\")"
   ]
  },
  {
   "cell_type": "code",
   "execution_count": 4,
   "metadata": {},
   "outputs": [
    {
     "name": "stdout",
     "output_type": "stream",
     "text": [
      "{('int', 9), ('float', 9.0)}\n"
     ]
    }
   ],
   "source": [
    "a = {(\"int\",9),(\"float\",9.0)}\n",
    "print(a)"
   ]
  },
  {
   "cell_type": "code",
   "execution_count": null,
   "metadata": {},
   "outputs": [
    {
     "name": "stdout",
     "output_type": "stream",
     "text": [
      "{2, 3, 4, 5}\n"
     ]
    }
   ],
   "source": [
    "#intersection\n",
    "s = {1,2,3,4,4,5,5}\n",
    "v = {2,2,3,3,4,5,5,6}\n",
    "c = s.intersection(v)\n",
    "print(c)"
   ]
  },
  {
   "cell_type": "code",
   "execution_count": 31,
   "metadata": {},
   "outputs": [
    {
     "name": "stdout",
     "output_type": "stream",
     "text": [
      "{1, 6}\n"
     ]
    }
   ],
   "source": [
    "s = {1,2,3,4,4,5,5}\n",
    "v = {2,2,3,3,4,5,5,6}\n",
    "c = v.symmetric_difference(s)\n",
    "print(c)"
   ]
  },
  {
   "cell_type": "code",
   "execution_count": 32,
   "metadata": {},
   "outputs": [
    {
     "name": "stdout",
     "output_type": "stream",
     "text": [
      "True\n",
      "False\n",
      "False\n"
     ]
    }
   ],
   "source": [
    "'''\n",
    "booleans\n",
    "'''\n",
    "print(10 > 9)\n",
    "print(10 == 9)\n",
    "print(10 < 9)"
   ]
  },
  {
   "cell_type": "code",
   "execution_count": null,
   "metadata": {},
   "outputs": [],
   "source": []
  }
 ],
 "metadata": {
  "kernelspec": {
   "display_name": "Python 3",
   "language": "python",
   "name": "python3"
  },
  "language_info": {
   "codemirror_mode": {
    "name": "ipython",
    "version": 3
   },
   "file_extension": ".py",
   "mimetype": "text/x-python",
   "name": "python",
   "nbconvert_exporter": "python",
   "pygments_lexer": "ipython3",
   "version": "3.11.5"
  }
 },
 "nbformat": 4,
 "nbformat_minor": 2
}
