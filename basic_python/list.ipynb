{
 "cells": [
  {
   "cell_type": "code",
   "execution_count": null,
   "metadata": {},
   "outputs": [
    {
     "name": "stdout",
     "output_type": "stream",
     "text": [
      "['i', 'two', 'three', 'four', 'five']\n",
      "['i', 'two', 'three', 'four', 'five', 'six,seven', 'six', 'seven']\n"
     ]
    }
   ],
   "source": [
    "a = [\"one\",\"two\",\"three\",\"four\",\"five\"]\n",
    "b = [\"six\",\"seven\"]\n",
    "a[0] = \"i\"\n",
    "print(a)\n",
    "a.append(b[0])\n",
    "c = a+b\n",
    "print(c)"
   ]
  },
  {
   "cell_type": "code",
   "execution_count": null,
   "metadata": {},
   "outputs": [
    {
     "name": "stdout",
     "output_type": "stream",
     "text": [
      "['A', 'A', 'A', 'B', 'B', 'C', 'D']\n"
     ]
    },
    {
     "data": {
      "text/plain": [
       "7"
      ]
     },
     "execution_count": 21,
     "metadata": {},
     "output_type": "execute_result"
    }
   ],
   "source": [
    "#count the no. of students with \"a\" grades in the following tuple \n",
    "#\n",
    "st  = (\"C\",\"D\",\"A\",\"A\",\"B\",\"B\",\"A\")\n",
    "st.count(\"A\")\n",
    "a = sorted(st)\n",
    "print(a)\n",
    "len(st)\n"
   ]
  },
  {
   "cell_type": "code",
   "execution_count": 30,
   "metadata": {},
   "outputs": [
    {
     "name": "stdout",
     "output_type": "stream",
     "text": [
      "[1, 2, 3, 4, 5, 6, 4, 5, 6, 4, 5, 6]\n"
     ]
    }
   ],
   "source": [
    "l1 = [1,2,3,4,5,6]\n",
    "t1 = (4,5,6)\n",
    "t3 = list(t1)\n",
    "l1.extend(t1)\n",
    "a = l1+t3\n",
    "print(a)\n",
    "#can we convert a list to tuple ?\n",
    "#convert a string to a tuple \n",
    "#count occurance of the each element in the tuple\n",
    "tup = (10,8,5,2,10,15,0,8,5,8,8,2)\n"
   ]
  },
  {
   "cell_type": "code",
   "execution_count": 3,
   "metadata": {},
   "outputs": [
    {
     "name": "stdout",
     "output_type": "stream",
     "text": [
      "(1, 2, 3, 4, 5)\n"
     ]
    }
   ],
   "source": [
    "my_list = [1, 2, 3, 4, 5]\n",
    "my_tuple = tuple(my_list)\n",
    "print(my_tuple)"
   ]
  },
  {
   "cell_type": "code",
   "execution_count": 2,
   "metadata": {},
   "outputs": [
    {
     "name": "stdout",
     "output_type": "stream",
     "text": [
      "('h', 'e', 'l', 'l', 'o')\n"
     ]
    }
   ],
   "source": [
    "my_string = \"hello\"\n",
    "my_tuple = tuple(my_string)\n",
    "print(my_tuple)"
   ]
  },
  {
   "cell_type": "code",
   "execution_count": null,
   "metadata": {},
   "outputs": [
    {
     "name": "stdout",
     "output_type": "stream",
     "text": [
      "{1: 1, 2: 2, 3: 3, 4: 4}\n"
     ]
    }
   ],
   "source": [
    "my_tuple = (1, 2, 2, 3, 3, 3, 4, 4, 4, 4)\n",
    "occurrence_count = {element: my_tuple.count(element) for element in set(my_tuple)}\n",
    "print(occurrence_count)"
   ]
  },
  {
   "cell_type": "code",
   "execution_count": 27,
   "metadata": {},
   "outputs": [
    {
     "name": "stdout",
     "output_type": "stream",
     "text": [
      "[1, 2, 3, 4, 5, 6, 7, 3]\n"
     ]
    }
   ],
   "source": [
    "a  = [1,2,3,4,5,6,7]\n",
    "a.append(3)\n",
    "print(a)"
   ]
  },
  {
   "cell_type": "code",
   "execution_count": 31,
   "metadata": {},
   "outputs": [
    {
     "name": "stdout",
     "output_type": "stream",
     "text": [
      "After append(60): [10, 20, 30, 40, 50, 60]\n",
      "After clear(): []\n",
      "Copy of my_list: [10, 20, 30, 40, 50, 60]\n",
      "Count of 20 in my_list: 1\n",
      "After extend([70, 80]): [10, 20, 30, 40, 50, 60, 70, 80]\n",
      "Index of 30 in my_list: 2\n",
      "After insert(2, 25): [10, 20, 25, 30, 40, 50, 60, 70, 80]\n",
      "After pop(2): [10, 20, 30, 40, 50, 60, 70, 80] Popped element: 25\n",
      "After remove(40): [10, 20, 30, 50, 60, 70, 80]\n",
      "After reverse(): [80, 70, 60, 50, 30, 20, 10]\n",
      "After sort(): [10, 20, 30, 50, 60, 70, 80]\n"
     ]
    }
   ],
   "source": [
    "# Sample list\n",
    "my_list = [10, 20, 30, 40, 50]\n",
    "\n",
    "# 1. append(): Adds an element at the end of the list\n",
    "my_list.append(60)\n",
    "print(\"After append(60):\", my_list)\n",
    "\n",
    "# 2. clear(): Removes all the elements from the list\n",
    "temp_list = my_list.copy()  # Creating a copy for the demonstration\n",
    "temp_list.clear()\n",
    "print(\"After clear():\", temp_list)\n",
    "\n",
    "# 3. copy(): Returns a copy of the list\n",
    "copied_list = my_list.copy()\n",
    "print(\"Copy of my_list:\", copied_list)\n",
    "\n",
    "# 4. count(): Returns the number of elements with the specified value\n",
    "count = my_list.count(20)\n",
    "print(\"Count of 20 in my_list:\", count)\n",
    "\n",
    "# 5. extend(): Add elements of another list (or iterable) to the end of the current list\n",
    "my_list.extend([70, 80])\n",
    "print(\"After extend([70, 80]):\", my_list)\n",
    "\n",
    "# 6. index(): Returns the index of the first element with the specified value\n",
    "index = my_list.index(30)\n",
    "print(\"Index of 30 in my_list:\", index)\n",
    "\n",
    "# 7. insert(): Adds an element at the specified position\n",
    "my_list.insert(2, 25)\n",
    "print(\"After insert(2, 25):\", my_list)\n",
    "\n",
    "# 8. pop(): Removes the element at the specified position (default: last)\n",
    "popped_element = my_list.pop(2)\n",
    "print(\"After pop(2):\", my_list, \"Popped element:\", popped_element)\n",
    "\n",
    "# 9. remove(): Removes the item with the specified value\n",
    "my_list.remove(40)\n",
    "print(\"After remove(40):\", my_list)\n",
    "\n",
    "# 10. reverse(): Reverses the order of the list\n",
    "my_list.reverse()\n",
    "print(\"After reverse():\", my_list)\n",
    "\n",
    "# 11. sort(): Sorts the list\n",
    "my_list.sort()\n",
    "print(\"After sort():\", my_list)"
   ]
  },
  {
   "cell_type": "code",
   "execution_count": 5,
   "metadata": {},
   "outputs": [
    {
     "name": "stdout",
     "output_type": "stream",
     "text": [
      "rohit kaushal\n"
     ]
    }
   ],
   "source": [
    "\n",
    "a = \"lahsuak tihor\"\n",
    "\n",
    "print(a[::-1])#reverse a string "
   ]
  },
  {
   "cell_type": "code",
   "execution_count": 7,
   "metadata": {},
   "outputs": [
    {
     "name": "stdout",
     "output_type": "stream",
     "text": [
      "the sum of two numbers: 6\n"
     ]
    }
   ],
   "source": [
    "print(f\"the sum of two numbers: {2+4}\")"
   ]
  },
  {
   "cell_type": "code",
   "execution_count": 2,
   "metadata": {},
   "outputs": [
    {
     "name": "stdout",
     "output_type": "stream",
     "text": [
      "{'table': 'a piece of furniturelist of facts', 'cat': 'a small animal'}\n"
     ]
    }
   ],
   "source": [
    "#store the following words meaning in python dictionary\n",
    "\n",
    "my_dict = {\n",
    "    \"table\":\"a piece of furniture\"  \"list of facts\",\n",
    "    \"cat\": \"a small animal\",\n",
    "           }\n",
    "print(my_dict)\n"
   ]
  },
  {
   "cell_type": "code",
   "execution_count": 23,
   "metadata": {},
   "outputs": [
    {
     "name": "stdout",
     "output_type": "stream",
     "text": [
      "{'maths': 98, 'english': 97, 'sciences': 99}\n"
     ]
    }
   ],
   "source": [
    "#WAP to enter marks of three subjects from the user and store them in a dictionary\n",
    "math = int(input(\"enter the marks of three subject\"))\n",
    "english = int(input(\"enter the marks of three subject\"))\n",
    "science = int(input(\"enter the marks of three subject\"))\n",
    "dict = {\n",
    "    \"maths\": math,\n",
    "    \"english\": english,\n",
    "    \"sciences\": science\n",
    "}\n",
    "print(dict)"
   ]
  },
  {
   "cell_type": "code",
   "execution_count": 22,
   "metadata": {},
   "outputs": [
    {
     "name": "stdout",
     "output_type": "stream",
     "text": [
      "dict_keys(['std_1', 'roll no.', 'class', 'marks', (1, 2)])\n",
      "dict_values(['rohit', 57, 'machine learning', [12, 43, 32, 33, 90], ['math', 'science']])\n"
     ]
    }
   ],
   "source": [
    "#create a dictionary and get all the keys and values seperately\n",
    "my_dict  = {\n",
    "    \"std_1\" : \"rohit\",\n",
    "    \"roll no.\" : 57,\n",
    "    \"class\" : \"machine learning\",\n",
    "    \"marks\" : [12,43,32,33,90],\n",
    "    (1,2) : [\"math\" , \"science\"]\n",
    "}\n",
    "print(my_dict.keys())\n",
    "print(my_dict.values())\n"
   ]
  },
  {
   "cell_type": "code",
   "execution_count": 38,
   "metadata": {},
   "outputs": [
    {
     "name": "stdout",
     "output_type": "stream",
     "text": [
      "{3: 'c', 4: 'd'}\n",
      "{1: 'a', 2: 'b', 3: 'c', 4: 'd'}\n",
      "{1: 'a', 2: 'b', 3: 'c', 4: 'd'}\n"
     ]
    }
   ],
   "source": [
    "#create two dictionary by constructor method and merge both dictionary into a new dictionary\n",
    "d = {1:\"a\",2:\"b\"}\n",
    "b = {3:\"c\",4:\"d\"}\n",
    "d.update(b)\n",
    "print(b)\n",
    "print(d)\n",
    "a = d.copy()\n",
    "print(a)"
   ]
  },
  {
   "cell_type": "code",
   "execution_count": null,
   "metadata": {},
   "outputs": [
    {
     "name": "stdout",
     "output_type": "stream",
     "text": [
      "{'live in': 'chandigarh', 'study': 'masters', 'roll no.': 57}\n",
      "chandigarh\n",
      "('roll no.', 57)\n"
     ]
    }
   ],
   "source": [
    "#remove item by key\n",
    "#remove item by key and return its value\n",
    "#remove and return the last key value pair\n",
    "#empty all the dictionary\n",
    "person = {\n",
    "    \"name\": \"rohit\",\n",
    "    \"live in\": \"chandigarh\",\n",
    "    \"study\": \"masters\",\n",
    "    \"roll no.\": 57,\n",
    "\n",
    "}\n",
    "person.pop(\"name\")\n",
    "print(person)\n",
    "\n",
    "a = person.pop(\"live in\")\n",
    "print(a)\n",
    "\n",
    "b = person.popitem()\n",
    "print(b)\n",
    "\n"
   ]
  },
  {
   "cell_type": "code",
   "execution_count": null,
   "metadata": {},
   "outputs": [
    {
     "data": {
      "text/plain": [
       "'\\nwap to take the name and marksof the three students as input and store them in a dictionary \\nprint the dictionary\\nwap to check if a given key exist in a dictionary if exists print the value otherwise print\"key not found\"\\nwap that takes a sentence from the user and count the frequency of each word using a dictionary\\ncreate a dict of employee with thier salaries take an employee name as input and update thier salary\\nprint the updated dictionary\\nwap to merge two dictionary into one \\n'"
      ]
     },
     "execution_count": 44,
     "metadata": {},
     "output_type": "execute_result"
    }
   ],
   "source": [
    "'''\n",
    "wap to take the name and marksof the three students as input and store them in a dictionary \n",
    "print the dictionary\n",
    "wap to check if a given key exist in a dictionary if exists print the value otherwise print\"key not found\"\n",
    "wap that takes a sentence from the user and count the frequency of each word using a dictionary\n",
    "create a dict of employee with thier salaries take an employee name as input and update thier salary\n",
    "print the updated dictionary\n",
    "wap to merge two dictionary into one \n",
    "'''"
   ]
  },
  {
   "cell_type": "code",
   "execution_count": null,
   "metadata": {},
   "outputs": [
    {
     "name": "stdout",
     "output_type": "stream",
     "text": [
      "{'maths': 98, 'english': 97, 'sciences': 99}\n"
     ]
    }
   ],
   "source": [
    "# wap to take the name and marksof the three students as input and store them in a dictionary \n",
    "# print the dictionary\n",
    "math = int(input(\"enter the marks of three subject\"))\n",
    "english = int(input(\"enter the marks of three subject\"))\n",
    "science = int(input(\"enter the marks of three subject\"))\n",
    "dict = {\n",
    "    \"maths\": math,\n",
    "    \"english\": english,\n",
    "    \"sciences\": science\n",
    "}\n",
    "print(dict)"
   ]
  },
  {
   "cell_type": "code",
   "execution_count": null,
   "metadata": {},
   "outputs": [
    {
     "name": "stdout",
     "output_type": "stream",
     "text": [
      "Key not found\n"
     ]
    }
   ],
   "source": [
    "# wap to check if a given key exist in a dictionary if exists print the value otherwise print\"key not found\"\n",
    "person = {\n",
    "    \"name\": \"rohit\",\n",
    "    \"live in\": \"chandigarh\",\n",
    "    \"study\": \"masters\",\n",
    "    \"roll no.\": 57,\n",
    "    234: \"serial number\"\n",
    "}\n",
    "\n",
    "key = input(\"Give the key: \")\n",
    "\n",
    "\n",
    "if key in person:\n",
    "    print(person[key])\n",
    "else:\n",
    "    print(\"Key not found\")"
   ]
  },
  {
   "cell_type": "code",
   "execution_count": null,
   "metadata": {},
   "outputs": [],
   "source": [
    "# wap that takes a sentence from the user and count the frequency of each word using a dictionary\n",
    "x = input(\"write a sentence\")\n",
    "x.count()   "
   ]
  },
  {
   "cell_type": "code",
   "execution_count": null,
   "metadata": {},
   "outputs": [
    {
     "name": "stdout",
     "output_type": "stream",
     "text": [
      "Updated Employee Dictionary: {'Rohit': 3423, 'Amit': 60000, 'Neha': 55000, 'Suresh': 70000, 'Pooja': 65000}\n"
     ]
    }
   ],
   "source": [
    "# Dictionary of employees with their salaries\n",
    "employees = {\n",
    "    \"Rohit\": 50000,\n",
    "    \"Amit\": 60000,\n",
    "    \"Neha\": 55000,\n",
    "    \"Suresh\": 70000,\n",
    "    \"Pooja\": 65000\n",
    "}\n",
    "\n",
    "# Taking employee name as input\n",
    "name = input(\"Enter the employee's name: \")\n",
    "\n",
    "employees.update({name:int(input(\"give the new salary\"))}) \n",
    "print(\"Updated Employee Dictionary:\", employees)\n"
   ]
  },
  {
   "cell_type": "code",
   "execution_count": 69,
   "metadata": {},
   "outputs": [
    {
     "name": "stdout",
     "output_type": "stream",
     "text": [
      "{3: 'c', 4: 'd'}\n",
      "{1: 'a', 2: 'b', 3: 'c', 4: 'd'}\n",
      "{1: 'a', 2: 'b', 3: 'c', 4: 'd'}\n"
     ]
    }
   ],
   "source": [
    "d = {1:\"a\",2:\"b\"}\n",
    "b = {3:\"c\",4:\"d\"}\n",
    "d.update(b)\n",
    "c = {**d,**b}\n",
    "print(b)\n",
    "print(d)\n",
    "print(c)\n"
   ]
  },
  {
   "cell_type": "code",
   "execution_count": 11,
   "metadata": {},
   "outputs": [
    {
     "name": "stdout",
     "output_type": "stream",
     "text": [
      "{'orange', 'black', 'green', 'blue', 'white', 'red'}\n",
      "{'orange', 'black', 'green', 'blue', 'white'}\n",
      "color is present \n",
      "{'orange', 'green', 'blue', 'white'}\n"
     ]
    }
   ],
   "source": [
    "#\n",
    "color = {\"red\",\"blue\",\"white\",\"green\",\"black\"}\n",
    "color.add(\"orange\")\n",
    "print(color)\n",
    "color.discard(\"red\")\n",
    "print(color)\n",
    "if \"black\" in color:\n",
    "    print(\"color is present \")\n",
    "\n",
    "color.discard(\"black\")\n",
    "# color.remove(\"black\")\n",
    "print(color)\n",
    "\n"
   ]
  },
  {
   "cell_type": "code",
   "execution_count": 37,
   "metadata": {},
   "outputs": [
    {
     "name": "stdout",
     "output_type": "stream",
     "text": [
      "False\n",
      "False\n",
      "{'orange', 'black', 'blue', 'white', 'green', 'yellow', 'red'}\n"
     ]
    }
   ],
   "source": [
    "color = {\"red\",\"blue\",\"yellow\",\"blue\",\"black\",\"orange\",\"white\"}\n",
    "color2 = {\"red\",\"blue\",\"white\",\"black\",\"green\"}\n",
    "# c = color.union(color2)\n",
    "# d = color.difference(color2)\n",
    "# d2 = color.pop()\n",
    "# d3 = color.symmetric_difference(color2)\n",
    "# print(d)\n",
    "# print(d3)\n",
    "c = color.isdisjoint(color2)\n",
    "d = color2.issubset(color)\n",
    "print(c)\n",
    "print(d)\n",
    "color.update(color2)\n",
    "print(color)"
   ]
  },
  {
   "cell_type": "code",
   "execution_count": 1,
   "metadata": {},
   "outputs": [
    {
     "name": "stdout",
     "output_type": "stream",
     "text": [
      "['apple', 'banana', 'mango']\n"
     ]
    }
   ],
   "source": [
    "fruits = [\"apple\", \"banana\", \"cherry\", \"kiwi\", \"mango\"]\n",
    "newlist = [x for x in fruits if \"a\" in x]\n",
    "\n",
    "print(newlist)\n"
   ]
  },
  {
   "cell_type": "code",
   "execution_count": 2,
   "metadata": {},
   "outputs": [
    {
     "name": "stdout",
     "output_type": "stream",
     "text": [
      "['apple', 'banana', 'mango']\n"
     ]
    }
   ],
   "source": [
    "fruits = [\"apple\", \"banana\", \"cherry\", \"kiwi\", \"mango\"]\n",
    "newlist = [x for x in fruits if \"a\" in x]\n",
    "\n",
    "print(newlist)\n"
   ]
  },
  {
   "cell_type": "code",
   "execution_count": 4,
   "metadata": {},
   "outputs": [
    {
     "name": "stdout",
     "output_type": "stream",
     "text": [
      "[0, 4, 16, 36, 64]\n"
     ]
    }
   ],
   "source": [
    "square = [x**2 for x in range(0,10) if x%2 == 0]\n",
    "print(square)"
   ]
  },
  {
   "cell_type": "code",
   "execution_count": null,
   "metadata": {},
   "outputs": [
    {
     "name": "stdout",
     "output_type": "stream",
     "text": [
      "[0, 2]\n"
     ]
    }
   ],
   "source": [
    "square = [x for x in range(0,10) if x%2==0]\n",
    "print(square)"
   ]
  },
  {
   "cell_type": "code",
   "execution_count": null,
   "metadata": {},
   "outputs": [],
   "source": [
    "square = [x for x in range(0,10) if x%2==0 and x<4]\n",
    "print(square)"
   ]
  },
  {
   "cell_type": "code",
   "execution_count": 29,
   "metadata": {},
   "outputs": [
    {
     "data": {
      "text/plain": [
       "25"
      ]
     },
     "execution_count": 29,
     "metadata": {},
     "output_type": "execute_result"
    }
   ],
   "source": [
    "def get(a):\n",
    "    for x in a:\n",
    "        return (x**2)\n",
    "my_list = [5, 2, 3, 4, 5]\n",
    "get(my_list)"
   ]
  },
  {
   "cell_type": "code",
   "execution_count": 27,
   "metadata": {},
   "outputs": [
    {
     "name": "stdout",
     "output_type": "stream",
     "text": [
      "[(0, 0), (1, 1), (2, 4), (3, 9), (4, 16), (5, 25), (6, 36), (7, 49), (8, 64), (9, 81)]\n"
     ]
    }
   ],
   "source": [
    "square = [(x,x**2) for x in range(0,10) ]\n",
    "print(square)"
   ]
  },
  {
   "cell_type": "code",
   "execution_count": 35,
   "metadata": {},
   "outputs": [
    {
     "name": "stdout",
     "output_type": "stream",
     "text": [
      "['BANANA', 'APPLE', 'GRAPES']\n"
     ]
    }
   ],
   "source": [
    "list = [\"banana\", \"apple\", \"grapes\"]\n",
    "object = [x.upper() for x in list]\n",
    "print(object)"
   ]
  },
  {
   "cell_type": "code",
   "execution_count": null,
   "metadata": {},
   "outputs": [
    {
     "name": "stdout",
     "output_type": "stream",
     "text": [
      "[1, 2, 3, 4, 5, 6, 7]\n"
     ]
    }
   ],
   "source": [
    "#flatting a nested list\n",
    "list1 = [[1,2,3,4],[5,6,7]]\n",
    "object = [x for sublist in list1 for x in sublist]\n",
    "print(object)"
   ]
  },
  {
   "cell_type": "code",
   "execution_count": 41,
   "metadata": {},
   "outputs": [],
   "source": [
    "#create a list of cubes for numbers 1 to 10 using list comprehention\n",
    "#filter prime numbers from a list[2,3,4,5,6,7,8,9,10]\n",
    "#create a list of tuples where each tuple contain a number and its square root for numbers one to five \n",
    "#flatten a 2d list using list comprehention\n",
    "#write s function that takes a list of number and return a list of thier square\n",
    "#write a function that takes a sentence as input and returna llist of words \n",
    "#WAF that removes all vowels from a given string using list comprehention "
   ]
  },
  {
   "cell_type": "code",
   "execution_count": null,
   "metadata": {},
   "outputs": [
    {
     "name": "stdout",
     "output_type": "stream",
     "text": [
      "[1, 8, 27, 64, 125, 216, 343, 512, 729, 1000]\n"
     ]
    }
   ],
   "source": [
    "#create a list of cubes for numbers 1 to 10 using list comprehention\n",
    "compr = [x**3 for x in range(1,11)]\n",
    "print(compr)"
   ]
  },
  {
   "cell_type": "code",
   "execution_count": null,
   "metadata": {},
   "outputs": [
    {
     "name": "stdout",
     "output_type": "stream",
     "text": [
      "[2, 3, 5, 7]\n"
     ]
    }
   ],
   "source": [
    "#filter prime numbers from a list[2,3,4,5,6,7,8,9,10]\n",
    "def is_prime(n):\n",
    "    if n < 2:\n",
    "        return False\n",
    "    for i in range(2, int(n**0.5) + 1):\n",
    "        if n % i == 0:\n",
    "            return False\n",
    "    return True\n",
    "\n",
    "numbers = [2, 3, 4, 5, 6, 7, 8, 9, 10]\n",
    "prime_numbers = [num for num in numbers if is_prime(num)]\n",
    "\n",
    "print(prime_numbers)"
   ]
  },
  {
   "cell_type": "code",
   "execution_count": null,
   "metadata": {},
   "outputs": [
    {
     "name": "stdout",
     "output_type": "stream",
     "text": [
      "[(1, 1), (2, 4), (3, 9), (4, 16), (5, 25)]\n"
     ]
    }
   ],
   "source": [
    "#create a list of tuples where each tuple contain a number and its square root for numbers one to five \n",
    "tup1 = [(x,x**2) for x in range(1,6)]\n",
    "print(tup1)"
   ]
  },
  {
   "cell_type": "code",
   "execution_count": null,
   "metadata": {},
   "outputs": [
    {
     "name": "stdout",
     "output_type": "stream",
     "text": [
      "[1, 2, 3, 4, 5, 6, 7]\n"
     ]
    }
   ],
   "source": [
    "#flatten a 2d list using list comprehention\n",
    "list1 = [[1,2,3,4],[5,6,7]]\n",
    "flat = [x for y in list1 for x in y  ]\n",
    "print(flat)"
   ]
  },
  {
   "cell_type": "code",
   "execution_count": null,
   "metadata": {},
   "outputs": [
    {
     "name": "stdout",
     "output_type": "stream",
     "text": [
      "[1.4142135623730951, 1.7320508075688772, 2.0, 2.23606797749979, 2.449489742783178, 2.6457513110645907, 2.8284271247461903, 3.0, 3.1622776601683795]\n"
     ]
    }
   ],
   "source": [
    "#write s function that takes a list of number and return a list of thier square\n",
    "numbers = [2, 3, 4, 5, 6, 7, 8, 9, 10]\n",
    "squr = [x**0.5 for x in numbers]\n",
    "print(squr)"
   ]
  },
  {
   "cell_type": "code",
   "execution_count": 61,
   "metadata": {},
   "outputs": [
    {
     "name": "stdout",
     "output_type": "stream",
     "text": [
      "[['my', 'name', 'is', 'rohit', 'kaushal']]\n"
     ]
    }
   ],
   "source": [
    "#write a function that takes a sentence as input and returna llist of words \n",
    "list = [\"my name is rohit kaushal\"]\n",
    "object = [x.split() for x in list]\n",
    "print(object)"
   ]
  },
  {
   "cell_type": "code",
   "execution_count": null,
   "metadata": {},
   "outputs": [
    {
     "name": "stdout",
     "output_type": "stream",
     "text": [
      "rht\n"
     ]
    }
   ],
   "source": [
    "#WAF that removes all vowels from a given string using list comprehention \n",
    "def remove_vowels(s):\n",
    "    vowels = \"aeiouAEIOU\"\n",
    "    return \"\".join([x for x in s if x not in vowels]) \n",
    "s = \"rohit\"\n",
    "result = remove_vowels(s)\n",
    "print(result)"
   ]
  },
  {
   "cell_type": "code",
   "execution_count": null,
   "metadata": {},
   "outputs": [],
   "source": []
  },
  {
   "cell_type": "code",
   "execution_count": null,
   "metadata": {},
   "outputs": [],
   "source": []
  }
 ],
 "metadata": {
  "kernelspec": {
   "display_name": "Python 3",
   "language": "python",
   "name": "python3"
  },
  "language_info": {
   "codemirror_mode": {
    "name": "ipython",
    "version": 3
   },
   "file_extension": ".py",
   "mimetype": "text/x-python",
   "name": "python",
   "nbconvert_exporter": "python",
   "pygments_lexer": "ipython3",
   "version": "3.11.5"
  }
 },
 "nbformat": 4,
 "nbformat_minor": 2
}
