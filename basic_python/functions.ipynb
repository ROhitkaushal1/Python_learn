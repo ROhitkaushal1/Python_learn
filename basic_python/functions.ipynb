{
 "cells": [
  {
   "cell_type": "code",
   "execution_count": 1,
   "metadata": {},
   "outputs": [
    {
     "data": {
      "text/plain": [
       "720"
      ]
     },
     "execution_count": 1,
     "metadata": {},
     "output_type": "execute_result"
    }
   ],
   "source": [
    "def fact(n):\n",
    "    if(n==1 or n==0):\n",
    "        return 1\n",
    "    else:\n",
    "        return n*fact(n-1)\n",
    "a = 6\n",
    "fact(a)\n"
   ]
  },
  {
   "cell_type": "code",
   "execution_count": 2,
   "metadata": {},
   "outputs": [
    {
     "name": "stdout",
     "output_type": "stream",
     "text": [
      "[2, 4, 6, 8, 10]\n"
     ]
    }
   ],
   "source": [
    "#map function\n",
    "x = [1,2,3,4,5]\n",
    "y = map(lambda a:a*2,x)\n",
    "print(list(y))\n"
   ]
  },
  {
   "cell_type": "code",
   "execution_count": 4,
   "metadata": {},
   "outputs": [
    {
     "name": "stdout",
     "output_type": "stream",
     "text": [
      "[1, 3, 5]\n"
     ]
    }
   ],
   "source": [
    "x = [1,2,3,4,5]\n",
    "y = filter(lambda y:y%2!=0,x)\n",
    "print(list(y))"
   ]
  },
  {
   "cell_type": "code",
   "execution_count": 5,
   "metadata": {},
   "outputs": [
    {
     "name": "stdout",
     "output_type": "stream",
     "text": [
      "[1, 4, 9, 16, 25]\n"
     ]
    }
   ],
   "source": [
    "x = [1,2,3,4,5]\n",
    "y = map(lambda a:a**2,x)\n",
    "print(list(y))"
   ]
  },
  {
   "cell_type": "code",
   "execution_count": 6,
   "metadata": {},
   "outputs": [
    {
     "name": "stdout",
     "output_type": "stream",
     "text": [
      "['ROHIT', 'SHIWAM', 'ABHISHEK']\n"
     ]
    }
   ],
   "source": [
    "str1 = [\"rohit\",\"shiwam\",\"abhishek\"]\n",
    "y  = map(lambda a:a.upper(),str1)\n",
    "print(list(y))"
   ]
  },
  {
   "cell_type": "code",
   "execution_count": 15,
   "metadata": {},
   "outputs": [
    {
     "name": "stdout",
     "output_type": "stream",
     "text": [
      "[6, 8, 10, 12]\n"
     ]
    }
   ],
   "source": [
    "#add corresponding elements of two list\n",
    "l1 = [1,2,3,]\n",
    "l2 = [5,6,7,8,9]\n",
    "y = map(lambda a,b:a+b,l1,l2)\n",
    "print(list(y))"
   ]
  },
  {
   "cell_type": "code",
   "execution_count": 14,
   "metadata": {},
   "outputs": [
    {
     "name": "stdout",
     "output_type": "stream",
     "text": [
      "[2, 3, 5, 7]\n"
     ]
    }
   ],
   "source": [
    "#filter prime numbers from a list[2,3,4,5,6,7,8,9,10]\n",
    "def is_prime(n):\n",
    "    if n < 2:\n",
    "        return False\n",
    "    for i in range(2, int(n**0.5) + 1):\n",
    "        if n % i == 0:\n",
    "            return False\n",
    "    return True\n",
    "\n",
    "numbers = [2, 3, 4, 5, 6, 7, 8, 9, 10]\n",
    "prime_numbers = filter(lambda y:is_prime(y),numbers)\n",
    "\n",
    "print(list(prime_numbers))"
   ]
  },
  {
   "cell_type": "code",
   "execution_count": 17,
   "metadata": {},
   "outputs": [
    {
     "name": "stdout",
     "output_type": "stream",
     "text": [
      "[1, 2, 3, 4, 5]\n"
     ]
    }
   ],
   "source": [
    "#function to convert a list of string to integer\n",
    "str1 = [\"1\",\"2\",\"3\",\"4\",\"5\"]\n",
    "def func_stri(a):\n",
    "    return list(map(int , a))\n",
    "print(func_stri(str1))"
   ]
  },
  {
   "cell_type": "code",
   "execution_count": 20,
   "metadata": {},
   "outputs": [
    {
     "name": "stdout",
     "output_type": "stream",
     "text": [
      "[10, 25, 30, 'hello', 0, 'world', ' ']\n"
     ]
    }
   ],
   "source": [
    "#function to filter out missing data\n",
    "data = [10, None, 25, \"\", 30, None, \"hello\", 0, \"world\", \" \"]\n",
    "filtered_data = list(filter(lambda x: x not in (None, \"\"), data))\n",
    "print(filtered_data)  \n"
   ]
  },
  {
   "cell_type": "code",
   "execution_count": 27,
   "metadata": {},
   "outputs": [
    {
     "data": {
      "text/plain": [
       "['Rohit', 'Kaushal', 'Abhishek', 'Kataria']"
      ]
     },
     "execution_count": 27,
     "metadata": {},
     "output_type": "execute_result"
    }
   ],
   "source": [
    "list1 = [\"rohit\",\"kaushal\",\"abhishek\",\"kataria\"]\n",
    "\n",
    "def capital_letter(x):\n",
    "    return list(map(str.capitalize,x))\n",
    "\n",
    "capital_letter(list1)"
   ]
  },
  {
   "cell_type": "code",
   "execution_count": 31,
   "metadata": {},
   "outputs": [
    {
     "name": "stdout",
     "output_type": "stream",
     "text": [
      "[('a', 2000), ('d', 782766), ('b', 787662), ('c', 826328), ('e', 826328)]\n"
     ]
    }
   ],
   "source": [
    "d = [(\"a\", 2000), (\"b\", 787662), (\"c\", 826328),(\"d\", 782766), (\"e\", 826328)]\n",
    "\n",
    "\n",
    "sorted_list = sorted(d, key=lambda x: x[1])\n",
    "print(sorted_list) "
   ]
  },
  {
   "cell_type": "code",
   "execution_count": 40,
   "metadata": {},
   "outputs": [
    {
     "data": {
      "text/plain": [
       "[0, 2, 1, 3]"
      ]
     },
     "execution_count": 40,
     "metadata": {},
     "output_type": "execute_result"
    }
   ],
   "source": [
    "#function to count word frequency in a text \n",
    "\n",
    "list1 = [\"rohit\",\"kaushal\",\"abhishek\",\"kataria\"]\n",
    "def countfrequency(x,word):\n",
    "    return list(map(lambda x: x.count(word), x))\n",
    "countfrequency(list1,\"a\")"
   ]
  },
  {
   "cell_type": "code",
   "execution_count": 36,
   "metadata": {},
   "outputs": [
    {
     "name": "stdout",
     "output_type": "stream",
     "text": [
      "[0, 2, 1, 3]\n"
     ]
    }
   ],
   "source": [
    "list1 = [\"rohit\", \"kaushal\", \"abhishek\", \"kataria\"]\n",
    "\n",
    "def count_frequency(lst, word):\n",
    "    return list(map(lambda x: x.count(word), lst))  \n",
    "\n",
    "print(count_frequency(list1, \"a\")) "
   ]
  },
  {
   "cell_type": "code",
   "execution_count": 42,
   "metadata": {},
   "outputs": [
    {
     "data": {
      "text/plain": [
       "[('b', 787662), ('c', 826328), ('d', 782766), ('e', 826328)]"
      ]
     },
     "execution_count": 42,
     "metadata": {},
     "output_type": "execute_result"
    }
   ],
   "source": [
    "#filter employees with salary greater than 50k\n",
    "d = [(\"a\", 2000), (\"b\", 787662), (\"c\", 826328),(\"d\", 782766), (\"e\", 826328)]\n",
    "def salary(a):\n",
    "    return list(filter(lambda x:x[1]>50000,a))\n",
    "salary(d)"
   ]
  },
  {
   "cell_type": "code",
   "execution_count": 43,
   "metadata": {},
   "outputs": [
    {
     "name": "stdout",
     "output_type": "stream",
     "text": [
      "[(1, 'Alice', 85), (2, 'Bob', 90), (3, 'Charlie', 78), (4, 'David', 88)]\n"
     ]
    }
   ],
   "source": [
    "# function to merge two datasets based on their id\n",
    "students = [(1, \"Alice\"), (2, \"Bob\"), (3, \"Charlie\"), (4, \"David\")]\n",
    "marks = [(1, 85), (2, 90), (3, 78), (4, 88)]\n",
    "marks_dict = dict(marks)\n",
    "merged_data = [(id_, name, marks_dict.get(id_, \"No Marks\")) for id_, name in students]\n",
    "print(merged_data)"
   ]
  },
  {
   "cell_type": "code",
   "execution_count": 45,
   "metadata": {},
   "outputs": [
    {
     "name": "stdout",
     "output_type": "stream",
     "text": [
      "[2, 3, 7, 5, 8]\n"
     ]
    }
   ],
   "source": [
    "#function to find common elements in a list \n",
    "l1 = [1,2,3,4,5,6,7,8]\n",
    "l2 = [2,3,7,54,5,8,9,]\n",
    "common_data = list(filter(lambda x:x in l1,l2))\n",
    "print(common_data)"
   ]
  },
  {
   "cell_type": "code",
   "execution_count": 46,
   "metadata": {},
   "outputs": [
    {
     "name": "stdout",
     "output_type": "stream",
     "text": [
      "[1, 2, 3, 4, 5, 6, 7, 8]\n"
     ]
    }
   ],
   "source": [
    "#function to remove duplicates from a list\n",
    "def remove_duplicates(lst):\n",
    "    return list(set(lst)) \n",
    "l = [1,2,3,3,4,4,3,2,2,1,3,4,5,5,6,7,8]\n",
    "print(remove_duplicates(l))"
   ]
  },
  {
   "cell_type": "code",
   "execution_count": 50,
   "metadata": {},
   "outputs": [
    {
     "name": "stdout",
     "output_type": "stream",
     "text": [
      "[0.0, 0.2, 0.4, 0.6, 0.8, 1.0]\n"
     ]
    }
   ],
   "source": [
    "#function to perform normalize a list\n",
    "def normalize_prices(prices):\n",
    "    min_val, max_val = min(prices), max(prices)\n",
    "    return [(p - min_val) / (max_val - min_val) for p in prices]\n",
    "prices = [1000, 2000, 3000, 4000, 5000, 6000]\n",
    "normalized_prices = normalize_prices(prices)\n",
    "print(normalized_prices)"
   ]
  },
  {
   "cell_type": "code",
   "execution_count": 55,
   "metadata": {},
   "outputs": [
    {
     "data": {
      "text/plain": [
       "['+1-202-555-xxxx',\n",
       " '+44 20 7946 xxxx',\n",
       " '+91-987654xxxx',\n",
       " '+61 2 1234 xxxx',\n",
       " '+49-30-1234xxxx',\n",
       " '202555xxxx',\n",
       " '98765 4xxxx',\n",
       " '07555 12xxxx',\n",
       " '+33 1 23 45 6xxxx',\n",
       " '+81 3-1234-xxxx']"
      ]
     },
     "execution_count": 55,
     "metadata": {},
     "output_type": "execute_result"
    }
   ],
   "source": [
    "#function to mask sensitive data \n",
    "phone_numbers = [\n",
    "    \"+1-202-555-0123\",  # US Format\n",
    "    \"+44 20 7946 0958\",  # UK Format\n",
    "    \"+91-9876543210\",    # India Format\n",
    "    \"+61 2 1234 5678\",   # Australia Format\n",
    "    \"+49-30-12345678\",   # Germany Format\n",
    "    \"2025550198\",        # US (Without Country Code)\n",
    "    \"98765 43210\",       # India (Without Country Code)\n",
    "    \"07555 123456\",      # UK Mobile\n",
    "    \"+33 1 23 45 67 89\", # France Format\n",
    "    \"+81 3-1234-5678\"    # Japan Format\n",
    "]\n",
    "def mask_num(y):\n",
    "    return list(map(lambda x:x[:-4]+'xxxx',y))\n",
    "mask_num(phone_numbers)"
   ]
  },
  {
   "cell_type": "code",
   "execution_count": 54,
   "metadata": {},
   "outputs": [
    {
     "name": "stdout",
     "output_type": "stream",
     "text": [
      "['+1-202-555-xxxx', '+44 20 7946 xxxx', '+91-987654xxxx', '+61 2 1234 xxxx', '+49-30-1234xxxx', '202555xxxx', '98765 4xxxx', '07555 12xxxx', '+33 1 23 45 6xxxx', '+81 3-1234-xxxx']\n"
     ]
    }
   ],
   "source": [
    "phone_numbers = [\n",
    "    \"+1-202-555-0123\",  # US Format\n",
    "    \"+44 20 7946 0958\",  # UK Format\n",
    "    \"+91-9876543210\",    # India Format\n",
    "    \"+61 2 1234 5678\",   # Australia Format\n",
    "    \"+49-30-12345678\",   # Germany Format\n",
    "    \"2025550198\",        # US (Without Country Code)\n",
    "    \"98765 43210\",       # India (Without Country Code)\n",
    "    \"07555 123456\",      # UK Mobile\n",
    "    \"+33 1 23 45 67 89\", # France Format\n",
    "    \"+81 3-1234-5678\"    # Japan Format\n",
    "]\n",
    "def mask_num(y):\n",
    "    return list(map(lambda x: x[:-4] + \"xxxx\", y))\n",
    "\n",
    "\n",
    "masked_phone_numbers = mask_num(phone_numbers)\n",
    "\n",
    "\n",
    "print(masked_phone_numbers)"
   ]
  },
  {
   "cell_type": "code",
   "execution_count": null,
   "metadata": {},
   "outputs": [],
   "source": [
    "#functions to extract emails from a dataset"
   ]
  },
  {
   "cell_type": "code",
   "execution_count": null,
   "metadata": {},
   "outputs": [],
   "source": [
    "#function to read data from a file"
   ]
  }
 ],
 "metadata": {
  "kernelspec": {
   "display_name": "Python 3",
   "language": "python",
   "name": "python3"
  },
  "language_info": {
   "codemirror_mode": {
    "name": "ipython",
    "version": 3
   },
   "file_extension": ".py",
   "mimetype": "text/x-python",
   "name": "python",
   "nbconvert_exporter": "python",
   "pygments_lexer": "ipython3",
   "version": "3.11.5"
  }
 },
 "nbformat": 4,
 "nbformat_minor": 2
}
