{
 "cells": [
  {
   "cell_type": "code",
   "execution_count": 13,
   "metadata": {},
   "outputs": [
    {
     "name": "stdout",
     "output_type": "stream",
     "text": [
      "1\n",
      "2\n",
      "3\n",
      "4\n",
      "5\n",
      "6\n",
      "7\n",
      "8\n",
      "9\n",
      "10\n"
     ]
    }
   ],
   "source": [
    "#WAP to print numbers from 1 to 10\n",
    "i = [1,2,3,4,5,6,7,8,9,10]\n",
    "for x in i:\n",
    "    print(x)\n",
    "        "
   ]
  },
  {
   "cell_type": "code",
   "execution_count": 14,
   "metadata": {},
   "outputs": [
    {
     "name": "stdout",
     "output_type": "stream",
     "text": [
      "1\n",
      "2\n",
      "3\n",
      "4\n"
     ]
    }
   ],
   "source": [
    "x = [1,2,3,4,5,6,7,8,9,10]\n",
    "for i in x:\n",
    "    if(i==5):\n",
    "        break\n",
    "    else:\n",
    "        print(i)\n",
    "        continue"
   ]
  },
  {
   "cell_type": "code",
   "execution_count": 15,
   "metadata": {},
   "outputs": [
    {
     "name": "stdout",
     "output_type": "stream",
     "text": [
      "1\n",
      "2\n",
      "3\n",
      "4\n",
      "6\n",
      "7\n",
      "8\n",
      "9\n",
      "10\n"
     ]
    }
   ],
   "source": [
    "#skip no. 5\n",
    "x = [1,2,3,4,5,6,7,8,9,10]\n",
    "for i in x:\n",
    "    if(i==5):\n",
    "        continue\n",
    "    print(i)\n",
    "    "
   ]
  },
  {
   "cell_type": "code",
   "execution_count": 19,
   "metadata": {},
   "outputs": [
    {
     "name": "stdout",
     "output_type": "stream",
     "text": [
      "first even number: {8}\n"
     ]
    }
   ],
   "source": [
    "#find the first eve number iusing break\n",
    "\n",
    "x = [3,5,7,8,11,13]\n",
    "for i in x:\n",
    "    if(i%2==0):\n",
    "        print(f'first even number:',{i})\n",
    "        break"
   ]
  },
  {
   "cell_type": "code",
   "execution_count": 6,
   "metadata": {},
   "outputs": [
    {
     "name": "stdout",
     "output_type": "stream",
     "text": [
      "odd number: 3\n",
      "odd number: 5\n",
      "odd number: 7\n",
      "odd number: 11\n",
      "odd number: 13\n"
     ]
    }
   ],
   "source": [
    "x = [3,5,7,8,11,13]\n",
    "for i in x:\n",
    "    if(i%2==0):\n",
    "        continue\n",
    "    print(f'odd number:',i)"
   ]
  },
  {
   "cell_type": "code",
   "execution_count": 31,
   "metadata": {},
   "outputs": [
    {
     "name": "stdout",
     "output_type": "stream",
     "text": [
      "table 1 * 1 = 1\n",
      "table 1 * 2 = 2\n",
      "table 1 * 3 = 3\n",
      "table 1 * 4 = 4\n",
      "table 1 * 5 = 5\n",
      "table 1 * 6 = 6\n",
      "table 1 * 7 = 7\n",
      "table 1 * 8 = 8\n",
      "table 1 * 9 = 9\n",
      "table 1 * 10 = 10\n",
      "table 2 * 1 = 2\n",
      "table 2 * 2 = 4\n",
      "table 2 * 3 = 6\n",
      "table 2 * 4 = 8\n",
      "table 2 * 5 = 10\n",
      "table 2 * 6 = 12\n",
      "table 2 * 7 = 14\n",
      "table 2 * 8 = 16\n",
      "table 2 * 9 = 18\n",
      "table 2 * 10 = 20\n",
      "table 3 * 1 = 3\n",
      "table 3 * 2 = 6\n",
      "table 3 * 3 = 9\n",
      "table 3 * 4 = 12\n",
      "table 3 * 5 = 15\n",
      "table 3 * 6 = 18\n",
      "table 3 * 7 = 21\n",
      "table 3 * 8 = 24\n",
      "table 3 * 9 = 27\n",
      "table 3 * 10 = 30\n",
      "table 4 * 1 = 4\n",
      "table 4 * 2 = 8\n",
      "table 4 * 3 = 12\n",
      "table 4 * 4 = 16\n",
      "table 4 * 5 = 20\n",
      "table 4 * 6 = 24\n",
      "table 4 * 7 = 28\n",
      "table 4 * 8 = 32\n",
      "table 4 * 9 = 36\n",
      "table 4 * 10 = 40\n",
      "table 5 * 1 = 5\n",
      "table 5 * 2 = 10\n",
      "table 5 * 3 = 15\n",
      "table 5 * 4 = 20\n",
      "table 5 * 5 = 25\n",
      "table 5 * 6 = 30\n",
      "table 5 * 7 = 35\n",
      "table 5 * 8 = 40\n",
      "table 5 * 9 = 45\n",
      "table 5 * 10 = 50\n"
     ]
    }
   ],
   "source": [
    "#multiplication table \n",
    "x = [1,2,3,4,5]\n",
    "y = [1,2,3,4,5,6,7,8,9,10]\n",
    "for i in x:\n",
    "    for j in y:\n",
    "        print(f\"table\",i,\"*\",j,\"=\", i*j ) "
   ]
  },
  {
   "cell_type": "code",
   "execution_count": 38,
   "metadata": {},
   "outputs": [
    {
     "name": "stdout",
     "output_type": "stream",
     "text": [
      "*\n",
      "**\n",
      "***\n",
      "****\n",
      "*****\n"
     ]
    }
   ],
   "source": [
    "\n",
    "for i in range(1,6):\n",
    "    for j in range(i):\n",
    "        print(\"*\",end=\"\") \n",
    "\n",
    "    print()"
   ]
  },
  {
   "cell_type": "code",
   "execution_count": 42,
   "metadata": {},
   "outputs": [
    {
     "name": "stdout",
     "output_type": "stream",
     "text": [
      "0\n",
      "01\n",
      "012\n",
      "0123\n",
      "01234\n"
     ]
    }
   ],
   "source": [
    "for i in range(1,6):\n",
    "    for j in range(i):\n",
    "        print(j,end=\"\") \n",
    "        \n",
    "    print()"
   ]
  },
  {
   "cell_type": "code",
   "execution_count": 44,
   "metadata": {},
   "outputs": [
    {
     "name": "stdout",
     "output_type": "stream",
     "text": [
      "20\n",
      "19\n",
      "18\n",
      "17\n",
      "16\n",
      "15\n",
      "14\n",
      "13\n",
      "12\n",
      "11\n",
      "10\n",
      "9\n",
      "8\n",
      "7\n",
      "6\n",
      "5\n",
      "4\n",
      "3\n",
      "2\n",
      "1\n"
     ]
    }
   ],
   "source": [
    "for i in range(20,0,-1):\n",
    "    print(i) \n",
    "        \n",
    " "
   ]
  },
  {
   "cell_type": "code",
   "execution_count": null,
   "metadata": {},
   "outputs": [],
   "source": [
    "#fibonnaci series\n",
    "j = int(input(\"enter the starting number\"))\n",
    "k = int(input(\"enter the ending number\"))\n",
    "for i in range(j,k):\n",
    "    if(i==0 or i==1):\n",
    "        print(i)\n",
    "        continue\n",
    "    print((i-1)+(i-2))\n",
    "\n",
    "    "
   ]
  },
  {
   "cell_type": "code",
   "execution_count": 59,
   "metadata": {},
   "outputs": [],
   "source": [
    "#WAP to get a factorial of a number \n",
    "#count vowels in a string \n",
    "#reverse a string using for loop\n",
    "#multiplication table of a number\n",
    "#sum of first tem natural numbers"
   ]
  },
  {
   "cell_type": "code",
   "execution_count": null,
   "metadata": {},
   "outputs": [
    {
     "name": "stdout",
     "output_type": "stream",
     "text": [
      "1\n"
     ]
    }
   ],
   "source": [
    "a = int(input(\"enter the number\"))\n",
    "x = 1\n",
    "for i in range(a,1,-1):\n",
    "    x = x*i\n",
    "print(x)    \n"
   ]
  },
  {
   "cell_type": "code",
   "execution_count": null,
   "metadata": {},
   "outputs": [
    {
     "name": "stdout",
     "output_type": "stream",
     "text": [
      "2\n"
     ]
    }
   ],
   "source": [
    "#count vowels in a string \n",
    "a = \"rohit\"\n",
    "x= 0\n",
    "v = \"aeiou\"\n",
    "for i in a:\n",
    "    if i in v:\n",
    "        x+=1\n",
    "print(x)\n"
   ]
  },
  {
   "cell_type": "code",
   "execution_count": 114,
   "metadata": {},
   "outputs": [
    {
     "name": "stdout",
     "output_type": "stream",
     "text": [
      "tihor\n"
     ]
    }
   ],
   "source": [
    "a = \"rohit\"\n",
    "x = len(a)\n",
    "b = []\n",
    "for i in range(x-1,-1,-1):\n",
    "    b.append(a[i])\n",
    "print(\"\".join(b))\n",
    "    \n"
   ]
  },
  {
   "cell_type": "code",
   "execution_count": 93,
   "metadata": {},
   "outputs": [
    {
     "name": "stdout",
     "output_type": "stream",
     "text": [
      " 12 * 1 = 12\n",
      " 12 * 2 = 24\n",
      " 12 * 3 = 36\n",
      " 12 * 4 = 48\n",
      " 12 * 5 = 60\n",
      " 12 * 6 = 72\n",
      " 12 * 7 = 84\n",
      " 12 * 8 = 96\n",
      " 12 * 9 = 108\n",
      " 12 * 10 = 120\n"
     ]
    }
   ],
   "source": [
    "#multiplication table \n",
    "x = int(input(\"enter the number\"))\n",
    "y = [1,2,3,4,5,6,7,8,9,10]\n",
    "for i in y:\n",
    "        print(f\"\",x,\"*\",i,\"=\", i*x ) "
   ]
  },
  {
   "cell_type": "code",
   "execution_count": null,
   "metadata": {},
   "outputs": [
    {
     "name": "stdout",
     "output_type": "stream",
     "text": [
      "15.0\n"
     ]
    }
   ],
   "source": [
    "a = int(input(\"enter the number\"))\n",
    "\n",
    "x = (a*(a+1))//2\n",
    "print(x)"
   ]
  },
  {
   "cell_type": "code",
   "execution_count": 117,
   "metadata": {},
   "outputs": [
    {
     "name": "stdout",
     "output_type": "stream",
     "text": [
      "1\n",
      "2\n",
      "3\n",
      "4\n",
      "5\n",
      "6\n",
      "7\n",
      "8\n",
      "9\n",
      "10\n",
      "11\n",
      "12\n",
      "13\n",
      "14\n",
      "15\n",
      "16\n",
      "17\n",
      "18\n",
      "19\n",
      "20\n",
      "21\n",
      "22\n",
      "23\n",
      "24\n",
      "25\n",
      "26\n",
      "27\n",
      "28\n",
      "29\n",
      "30\n",
      "31\n",
      "32\n",
      "33\n",
      "34\n",
      "35\n",
      "36\n",
      "37\n",
      "38\n",
      "39\n",
      "40\n",
      "41\n",
      "42\n",
      "43\n",
      "44\n",
      "45\n",
      "46\n",
      "47\n",
      "48\n",
      "49\n",
      "50\n",
      "51\n",
      "52\n",
      "53\n",
      "54\n",
      "55\n",
      "56\n",
      "57\n",
      "58\n",
      "59\n",
      "60\n",
      "61\n",
      "62\n",
      "63\n",
      "64\n",
      "65\n",
      "66\n",
      "67\n",
      "68\n",
      "69\n",
      "70\n",
      "71\n",
      "72\n",
      "73\n",
      "74\n",
      "75\n",
      "76\n",
      "77\n",
      "78\n",
      "79\n",
      "80\n",
      "81\n",
      "82\n",
      "83\n",
      "84\n",
      "85\n",
      "86\n",
      "87\n",
      "88\n",
      "89\n",
      "90\n",
      "91\n",
      "92\n",
      "93\n",
      "94\n",
      "95\n",
      "96\n",
      "97\n",
      "98\n",
      "99\n",
      "100\n"
     ]
    }
   ],
   "source": [
    "#while loop \n",
    "i = 1\n",
    "while i<=100:\n",
    "    print(i)\n",
    "    i+=1"
   ]
  },
  {
   "cell_type": "code",
   "execution_count": 127,
   "metadata": {},
   "outputs": [
    {
     "name": "stdout",
     "output_type": "stream",
     "text": [
      " 4 * 1 = 4\n",
      " 4 * 2 = 8\n",
      " 4 * 3 = 12\n",
      " 4 * 4 = 16\n",
      " 4 * 5 = 20\n",
      " 4 * 6 = 24\n",
      " 4 * 7 = 28\n",
      " 4 * 8 = 32\n",
      " 4 * 9 = 36\n",
      " 4 * 10 = 40\n"
     ]
    }
   ],
   "source": [
    "x = int(input(\"enter the number\"))\n",
    "n = 1\n",
    "while n<=10:\n",
    "    print(f\"\",x,\"*\",n,\"=\", n*x ) \n",
    "    n+=1"
   ]
  },
  {
   "cell_type": "code",
   "execution_count": 133,
   "metadata": {},
   "outputs": [
    {
     "name": "stdout",
     "output_type": "stream",
     "text": [
      "1\n",
      "4\n",
      "9\n",
      "16\n",
      "25\n",
      "36\n",
      "49\n",
      "64\n",
      "81\n",
      "100\n"
     ]
    }
   ],
   "source": [
    "#print the element of the following list using loop\n",
    "list1= [1,4,9,16,25,36,49,64,81,100]\n",
    "for i in list1:\n",
    "    print(i)"
   ]
  },
  {
   "cell_type": "code",
   "execution_count": 135,
   "metadata": {},
   "outputs": [
    {
     "name": "stdout",
     "output_type": "stream",
     "text": [
      "10\n",
      "9\n",
      "8\n",
      "7\n",
      "6\n",
      "5\n",
      "4\n",
      "3\n",
      "2\n",
      "1\n"
     ]
    }
   ],
   "source": [
    "#print number 10 to 1 \n",
    "\n",
    "for x in range(10,0,-1):\n",
    "    print(x)\n"
   ]
  },
  {
   "cell_type": "code",
   "execution_count": null,
   "metadata": {},
   "outputs": [
    {
     "name": "stdout",
     "output_type": "stream",
     "text": [
      "The sum is:  21\n"
     ]
    }
   ],
   "source": [
    "#wap to program to find sum of n natural number\n",
    "\n",
    "n = int(input(\"enter a number: \"))\n",
    "i = 1\n",
    "sum = 0\n",
    "while (i <= n):\n",
    "    sum = sum + i\n",
    "    i = i + 1\n",
    "print(\"The sum is: \", sum)"
   ]
  },
  {
   "cell_type": "code",
   "execution_count": 145,
   "metadata": {},
   "outputs": [
    {
     "name": "stdout",
     "output_type": "stream",
     "text": [
      "9\n"
     ]
    }
   ],
   "source": [
    "#\n",
    "n = int(input(\"enter a number: \"))\n",
    "n1 = int(input(\"enter a number: \"))\n",
    "\n",
    "while n1>=0:\n",
    "    n-=1\n",
    "    n1-=1\n",
    "print(n)"
   ]
  },
  {
   "cell_type": "code",
   "execution_count": null,
   "metadata": {},
   "outputs": [
    {
     "data": {
      "text/plain": [
       "120"
      ]
     },
     "execution_count": 5,
     "metadata": {},
     "output_type": "execute_result"
    }
   ],
   "source": [
    "\n"
   ]
  },
  {
   "cell_type": "code",
   "execution_count": null,
   "metadata": {},
   "outputs": [],
   "source": []
  }
 ],
 "metadata": {
  "kernelspec": {
   "display_name": "Python 3",
   "language": "python",
   "name": "python3"
  },
  "language_info": {
   "codemirror_mode": {
    "name": "ipython",
    "version": 3
   },
   "file_extension": ".py",
   "mimetype": "text/x-python",
   "name": "python",
   "nbconvert_exporter": "python",
   "pygments_lexer": "ipython3",
   "version": "3.11.5"
  }
 },
 "nbformat": 4,
 "nbformat_minor": 2
}
