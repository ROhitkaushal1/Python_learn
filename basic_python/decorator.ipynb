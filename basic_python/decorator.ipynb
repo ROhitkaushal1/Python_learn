{
 "cells": [
  {
   "cell_type": "code",
   "execution_count": null,
   "metadata": {},
   "outputs": [],
   "source": [
    "#A decorator in Python is a function that modifies the behavior of another function or class without changing its structure. \n",
    "#Decorators are commonly used to add functionalities like logging, authentication, timing, caching, etc."
   ]
  },
  {
   "cell_type": "code",
   "execution_count": null,
   "metadata": {},
   "outputs": [],
   "source": []
  },
  {
   "cell_type": "code",
   "execution_count": 7,
   "metadata": {},
   "outputs": [
    {
     "name": "stdout",
     "output_type": "stream",
     "text": [
      "function before the cell\n",
      "hi\n",
      "funciton after the cell\n"
     ]
    }
   ],
   "source": [
    "def upper_func(func):\n",
    "    def inner():\n",
    "        print(\"function before the cell\")\n",
    "        func()\n",
    "        print(\"funciton after the cell\")\n",
    "    return inner\n",
    "\n",
    "@upper_func\n",
    "def hello():\n",
    "    print(\"hi\")\n",
    "hello()\n"
   ]
  },
  {
   "cell_type": "code",
   "execution_count": null,
   "metadata": {},
   "outputs": [
    {
     "name": "stdout",
     "output_type": "stream",
     "text": [
      "25\n"
     ]
    }
   ],
   "source": [
    "# A higher-order function that takes another function as an argument\n",
    "def fun(f, x):\n",
    "    return f(x)\n",
    "\n",
    "# A simple function to pass\n",
    "def square(x):\n",
    "    return x * x\n",
    "\n",
    "# Using apply_function to apply the square function\n",
    "res = fun(square, 5)\n",
    "print(res)  \n",
    " "
   ]
  },
  {
   "cell_type": "code",
   "execution_count": null,
   "metadata": {},
   "outputs": [],
   "source": []
  }
 ],
 "metadata": {
  "kernelspec": {
   "display_name": "Python 3",
   "language": "python",
   "name": "python3"
  },
  "language_info": {
   "codemirror_mode": {
    "name": "ipython",
    "version": 3
   },
   "file_extension": ".py",
   "mimetype": "text/x-python",
   "name": "python",
   "nbconvert_exporter": "python",
   "pygments_lexer": "ipython3",
   "version": "3.11.5"
  }
 },
 "nbformat": 4,
 "nbformat_minor": 2
}
