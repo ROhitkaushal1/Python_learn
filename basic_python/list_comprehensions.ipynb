{
 "cells": [
  {
   "cell_type": "code",
   "execution_count": 2,
   "metadata": {},
   "outputs": [
    {
     "name": "stdout",
     "output_type": "stream",
     "text": [
      "[0, 3, 6, 9, 12, 15, 18, 21, 24, 27, 30, 33, 36, 39, 42, 45, 48, 51, 54, 57, 60, 63, 66, 69, 72, 75, 78, 81, 84, 87, 90, 93, 96, 99]\n"
     ]
    }
   ],
   "source": [
    "ls = []\n",
    "for i in range(100):\n",
    "    if i%3==0:\n",
    "        ls.append(i)\n",
    "print(ls)"
   ]
  },
  {
   "cell_type": "code",
   "execution_count": 6,
   "metadata": {},
   "outputs": [
    {
     "name": "stdout",
     "output_type": "stream",
     "text": [
      "[0, 3, 6, 9, 12, 15, 18, 21, 24, 27, 30, 33, 36, 39, 42, 45, 48, 51, 54, 57, 60, 63, 66, 69, 72, 75, 78, 81, 84, 87, 90, 93, 96, 99]\n"
     ]
    }
   ],
   "source": [
    "div_bythree = [i for i in range(100) if i%3==0]\n",
    "print(div_bythree)"
   ]
  },
  {
   "cell_type": "code",
   "execution_count": 14,
   "metadata": {},
   "outputs": [
    {
     "name": "stdout",
     "output_type": "stream",
     "text": [
      "{0: 'items0', 1: 'items1', 2: 'items2', 3: 'items3', 4: 'items4', 5: 'items5', 6: 'items6', 7: 'items7', 8: 'items8', 9: 'items9', 10: 'items10', 11: 'items11', 12: 'items12', 13: 'items13', 14: 'items14', 15: 'items15', 16: 'items16', 17: 'items17', 18: 'items18', 19: 'items19', 20: 'items20', 21: 'items21', 22: 'items22', 23: 'items23', 24: 'items24', 25: 'items25', 26: 'items26', 27: 'items27', 28: 'items28', 29: 'items29', 30: 'items30', 31: 'items31', 32: 'items32', 33: 'items33', 34: 'items34', 35: 'items35', 36: 'items36', 37: 'items37', 38: 'items38', 39: 'items39', 40: 'items40', 41: 'items41', 42: 'items42', 43: 'items43', 44: 'items44', 45: 'items45', 46: 'items46', 47: 'items47', 48: 'items48', 49: 'items49', 50: 'items50', 51: 'items51', 52: 'items52', 53: 'items53', 54: 'items54', 55: 'items55', 56: 'items56', 57: 'items57', 58: 'items58', 59: 'items59', 60: 'items60', 61: 'items61', 62: 'items62', 63: 'items63', 64: 'items64', 65: 'items65', 66: 'items66', 67: 'items67', 68: 'items68', 69: 'items69', 70: 'items70', 71: 'items71', 72: 'items72', 73: 'items73', 74: 'items74', 75: 'items75', 76: 'items76', 77: 'items77', 78: 'items78', 79: 'items79', 80: 'items80', 81: 'items81', 82: 'items82', 83: 'items83', 84: 'items84', 85: 'items85', 86: 'items86', 87: 'items87', 88: 'items88', 89: 'items89', 90: 'items90', 91: 'items91', 92: 'items92', 93: 'items93', 94: 'items94', 95: 'items95', 96: 'items96', 97: 'items97', 98: 'items98', 99: 'items99'} \n",
      " {'items0': 0, 'items1': 1, 'items2': 2, 'items3': 3, 'items4': 4, 'items5': 5, 'items6': 6, 'items7': 7, 'items8': 8, 'items9': 9, 'items10': 10, 'items11': 11, 'items12': 12, 'items13': 13, 'items14': 14, 'items15': 15, 'items16': 16, 'items17': 17, 'items18': 18, 'items19': 19, 'items20': 20, 'items21': 21, 'items22': 22, 'items23': 23, 'items24': 24, 'items25': 25, 'items26': 26, 'items27': 27, 'items28': 28, 'items29': 29, 'items30': 30, 'items31': 31, 'items32': 32, 'items33': 33, 'items34': 34, 'items35': 35, 'items36': 36, 'items37': 37, 'items38': 38, 'items39': 39, 'items40': 40, 'items41': 41, 'items42': 42, 'items43': 43, 'items44': 44, 'items45': 45, 'items46': 46, 'items47': 47, 'items48': 48, 'items49': 49, 'items50': 50, 'items51': 51, 'items52': 52, 'items53': 53, 'items54': 54, 'items55': 55, 'items56': 56, 'items57': 57, 'items58': 58, 'items59': 59, 'items60': 60, 'items61': 61, 'items62': 62, 'items63': 63, 'items64': 64, 'items65': 65, 'items66': 66, 'items67': 67, 'items68': 68, 'items69': 69, 'items70': 70, 'items71': 71, 'items72': 72, 'items73': 73, 'items74': 74, 'items75': 75, 'items76': 76, 'items77': 77, 'items78': 78, 'items79': 79, 'items80': 80, 'items81': 81, 'items82': 82, 'items83': 83, 'items84': 84, 'items85': 85, 'items86': 86, 'items87': 87, 'items88': 88, 'items89': 89, 'items90': 90, 'items91': 91, 'items92': 92, 'items93': 93, 'items94': 94, 'items95': 95, 'items96': 96, 'items97': 97, 'items98': 98, 'items99': 99}\n"
     ]
    }
   ],
   "source": [
    "dict = {x:f\"items{x}\" for x in range(100)}\n",
    "dict2 = {values:items for items,values in dict.items()}\n",
    "print(dict,\"\\n\",dict2)"
   ]
  },
  {
   "cell_type": "code",
   "execution_count": 15,
   "metadata": {},
   "outputs": [
    {
     "name": "stdout",
     "output_type": "stream",
     "text": [
      "['APPLE', 'BANANA', 'CHERRY']\n"
     ]
    }
   ],
   "source": [
    "# Convert a list of strings to uppercase\n",
    "# Given: [\"apple\", \"banana\", \"cherry\"]\n",
    "# Expected Output: [\"APPLE\", \"BANANA\", \"CHERRY\"]\n",
    "\n",
    "l1 = [\"apple\", \"banana\", \"cherry\"]\n",
    "upperl1 = [x.upper() for x in l1]\n",
    "print(upperl1)"
   ]
  },
  {
   "cell_type": "code",
   "execution_count": null,
   "metadata": {},
   "outputs": [
    {
     "name": "stdout",
     "output_type": "stream",
     "text": [
      "[5, 10, 15, 20, 25, 30, 35, 40, 45, 50]\n"
     ]
    }
   ],
   "source": [
    "# Create a list of first 10 multiples of 5\n",
    "# Expected Output: [5, 10, 15, 20, 25, 30, 35, 40, 45, 50]\n",
    "\n",
    "list_mul_of_5 = [ x for x in range(1,51) if x%5==0]\n",
    "\n",
    "print(list_mul_of_5)\n"
   ]
  },
  {
   "cell_type": "code",
   "execution_count": 19,
   "metadata": {},
   "outputs": [
    {
     "name": "stdout",
     "output_type": "stream",
     "text": [
      "['elephant', 'tiger']\n"
     ]
    }
   ],
   "source": [
    "# 5.\tFilter words with more than 4 letters from a list\n",
    "# Given: [\"cat\", \"elephant\", \"dog\", \"tiger\", \"rat\"]\n",
    "# Expected Output: [\"elephant\", \"tiger\"]\n",
    "\n",
    "animals = [\"cat\", \"elephant\", \"dog\", \"tiger\", \"rat\"]\n",
    "ls = [x for x in animals if len(x)>4]\n",
    "print(ls)\n",
    "\n",
    "\n"
   ]
  },
  {
   "cell_type": "code",
   "execution_count": 23,
   "metadata": {},
   "outputs": [
    {
     "data": {
      "text/plain": [
       "['nohtyp', 'avaj', 'ppc']"
      ]
     },
     "execution_count": 23,
     "metadata": {},
     "output_type": "execute_result"
    }
   ],
   "source": [
    "# Reverse each string in a list\n",
    "# Given: [\"python\", \"java\", \"cpp\"]\n",
    "# Expected Output: [\"nohtyp\", \"avaj\", \"ppc\"]\n",
    "\n",
    "str1 = [\"python\", \"java\", \"cpp\"]\n",
    "\n",
    "ls = [x[::-1] for x in str1]\n",
    "ls"
   ]
  },
  {
   "cell_type": "code",
   "execution_count": 27,
   "metadata": {},
   "outputs": [
    {
     "name": "stdout",
     "output_type": "stream",
     "text": [
      "[3, 4, 5]\n"
     ]
    }
   ],
   "source": [
    "# Find common elements between two lists using list comprehension\n",
    "# Given: list1 = [1, 2, 3, 4, 5], list2 = [3, 4, 5, 6, 7]\n",
    "# Expected Output: [3, 4, 5]\n",
    "\n",
    "\n",
    "list1 = [1, 2, 3, 4, 5]\n",
    "list2 = [3, 4, 5, 6, 7]\n",
    "\n",
    "common_num = [x for x in list1 for y in list2 if y ==x ]\n",
    "print(common_num)\n"
   ]
  },
  {
   "cell_type": "code",
   "execution_count": 33,
   "metadata": {},
   "outputs": [
    {
     "data": {
      "text/plain": [
       "['e', 'o', 'o']"
      ]
     },
     "execution_count": 33,
     "metadata": {},
     "output_type": "execute_result"
    }
   ],
   "source": [
    "# Replace all vowels in a string with ‘*’ using list comprehension\n",
    "# Given: \"hello world\"\n",
    "# Expected Output: \"h*ll* w*rld\"\n",
    "\n",
    "str = \"hello world\"\n",
    "\n",
    "filtered_str = [x for x in str for y in \"aeiouAEIOU\" if x==y ]\n",
    "filtered_str"
   ]
  },
  {
   "cell_type": "code",
   "execution_count": 34,
   "metadata": {},
   "outputs": [
    {
     "name": "stdout",
     "output_type": "stream",
     "text": [
      "h*ll* w*rld\n"
     ]
    }
   ],
   "source": [
    "text = \"hello world\"\n",
    "vowels = \"aeiouAEIOU\"\n",
    "\n",
    "result = ''.join(['*' if char in vowels else char for char in text])\n",
    "\n",
    "print(result)"
   ]
  },
  {
   "cell_type": "code",
   "execution_count": null,
   "metadata": {},
   "outputs": [],
   "source": []
  }
 ],
 "metadata": {
  "kernelspec": {
   "display_name": "Python 3",
   "language": "python",
   "name": "python3"
  },
  "language_info": {
   "codemirror_mode": {
    "name": "ipython",
    "version": 3
   },
   "file_extension": ".py",
   "mimetype": "text/x-python",
   "name": "python",
   "nbconvert_exporter": "python",
   "pygments_lexer": "ipython3",
   "version": "3.11.5"
  }
 },
 "nbformat": 4,
 "nbformat_minor": 2
}
